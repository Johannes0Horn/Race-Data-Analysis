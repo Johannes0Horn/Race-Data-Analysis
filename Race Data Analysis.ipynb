{
 "cells": [
  {
   "cell_type": "markdown",
   "id": "d2b600c5",
   "metadata": {},
   "source": [
    "# Race Data Analysis\n",
    "\n",
    "Goal of this notebook is to get some insight into some Race Data. Its from four different race tracks of different drivers splitted into 42 xml files with a total of 283mB. The Data itself is confidential, so only small snippets of the raw data will be shown.\n",
    "\n",
    "## 1.) Data Gathering\n",
    "\n",
    "From the Folderstructure we know there are four different tracks each with a different number of races. One Race per File.\n",
    "Each file contains Trackpoints for several laps. The first lap of each track is a warmup round without actual data. Per Trackpoint the following data is provided: \n",
    "\n",
    "* GPS coordinates\n",
    "* Heading\n",
    "* Distance driven\n",
    "* altitude above sea level\n",
    "* several sensor data"
   ]
  },
  {
   "cell_type": "code",
   "execution_count": 1,
   "id": "408f20b4",
   "metadata": {},
   "outputs": [],
   "source": [
    "import matplotlib.pyplot as plt\n",
    "import numpy as np\n",
    "import operator\n",
    "import glob\n",
    "import xml.etree.ElementTree as ET\n",
    "import pandas as pd\n",
    "import copy\n",
    "from scipy.signal import argrelextrema\n",
    "from collections import deque\n",
    "import seaborn as sns\n",
    "import math\n",
    "from scipy.signal import find_peaks"
   ]
  },
  {
   "cell_type": "markdown",
   "id": "7778c3b8",
   "metadata": {},
   "source": [
    "Form Panda Dataframe from given XML files\n"
   ]
  },
  {
   "cell_type": "code",
   "execution_count": 2,
   "id": "4b12d6fc",
   "metadata": {},
   "outputs": [
    {
     "name": "stdout",
     "output_type": "stream",
     "text": [
      "currentFile ./GPX Files\\Circuit Ricardo Tormo unofficial\\Race_20171204T093133.gpx\n",
      "total datapoints: 5638\n",
      "currentFile ./GPX Files\\Circuit Ricardo Tormo unofficial\\Race_20171205T074157.gpx\n",
      "total datapoints: 33191\n",
      "currentFile ./GPX Files\\Circuit Ricardo Tormo unofficial\\Race_20171205T110519.gpx\n",
      "total datapoints: 58810\n",
      "currentFile ./GPX Files\\Circuit Ricardo Tormo unofficial\\Race_20171205T131202.gpx\n",
      "total datapoints: 84760\n",
      "currentFile ./GPX Files\\Circuit Ricardo Tormo unofficial\\Race_20171207T130651.gpx\n",
      "total datapoints: 108741\n",
      "currentFile ./GPX Files\\Circuit Ricardo Tormo unofficial\\Race_20171208T081031.gpx\n",
      "total datapoints: 119775\n",
      "currentFile ./GPX Files\\Circuit Ricardo Tormo unofficial\\Race_20171209T125620.gpx\n",
      "total datapoints: 132088\n",
      "currentFile ./GPX Files\\Circuit Ricardo Tormo unofficial\\Race_20171209T144140.gpx\n",
      "total datapoints: 135814\n",
      "currentFile ./GPX Files\\Circuit Ricardo Tormo unofficial\\Race_20171209T153538.gpx\n",
      "total datapoints: 137882\n",
      "currentFile ./GPX Files\\Circuit Ricardo Tormo unofficial\\Race_20171209T154549.gpx\n",
      "total datapoints: 139492\n",
      "currentFile ./GPX Files\\Circuit Ricardo Tormo unofficial\\Race_20171210T094031.gpx\n",
      "total datapoints: 141209\n",
      "currentFile ./GPX Files\\Circuit Ricardo Tormo unofficial\\Race_20171210T111310.gpx\n",
      "total datapoints: 166590\n",
      "currentFile ./GPX Files\\Circuit Ricardo Tormo unofficial\\Race_20171210T140631.gpx\n",
      "total datapoints: 168239\n",
      "currentFile ./GPX Files\\Circuit Ricardo Tormo unofficial\\Race_20171211T103702.gpx\n",
      "total datapoints: 172900\n",
      "currentFile ./GPX Files\\Circuit Ricardo Tormo unofficial\\Race_20171211T112754.gpx\n",
      "total datapoints: 191087\n",
      "currentFile ./GPX Files\\Circuito del Jarama\\Race_0_20190717125112.gpx\n",
      "total datapoints: 192241\n",
      "currentFile ./GPX Files\\Circuito del Jarama\\Race_0_20190718133324.gpx\n",
      "total datapoints: 193531\n",
      "currentFile ./GPX Files\\Circuito del Jarama\\Race_1_20190718135029.gpx\n",
      "total datapoints: 197178\n",
      "currentFile ./GPX Files\\Idiada Handling\\Race_20190518T134615.gpx\n",
      "total datapoints: 200469\n",
      "currentFile ./GPX Files\\Idiada Handling\\Race_20190518T140952.gpx\n",
      "total datapoints: 205190\n",
      "currentFile ./GPX Files\\Idiada Handling\\Race_20190518T160906.gpx\n",
      "total datapoints: 209124\n",
      "currentFile ./GPX Files\\Idiada Handling\\Race_20190518T163947.gpx\n",
      "total datapoints: 212279\n",
      "currentFile ./GPX Files\\Idiada Handling\\Race_20190518T165840.gpx\n",
      "total datapoints: 214448\n",
      "currentFile ./GPX Files\\Sachsenring\\Race_0_20190808125506.gpx\n",
      "total datapoints: 215649\n",
      "currentFile ./GPX Files\\Sachsenring\\Race_0_20190809100819.gpx\n",
      "total datapoints: 217729\n",
      "currentFile ./GPX Files\\Sachsenring\\Race_0_20190809100958.gpx\n",
      "total datapoints: 219032\n",
      "currentFile ./GPX Files\\Sachsenring\\Race_0_20190809103014.gpx\n",
      "total datapoints: 220288\n",
      "currentFile ./GPX Files\\Sachsenring\\Race_0_20190809104936.gpx\n",
      "total datapoints: 221527\n",
      "currentFile ./GPX Files\\Sachsenring\\Race_0_20190809110702.gpx\n",
      "total datapoints: 222761\n",
      "currentFile ./GPX Files\\Sachsenring\\Race_1_20190808154416.gpx\n",
      "total datapoints: 226976\n",
      "currentFile ./GPX Files\\Sachsenring\\Race_1_20190809102159.gpx\n",
      "total datapoints: 235433\n",
      "currentFile ./GPX Files\\Sachsenring\\Race_1_20190809103615.gpx\n",
      "total datapoints: 239860\n",
      "currentFile ./GPX Files\\Sachsenring\\Race_1_20190809111227.gpx\n",
      "total datapoints: 241827\n",
      "currentFile ./GPX Files\\Sachsenring\\Race_1_20190809113728.gpx\n",
      "total datapoints: 249155\n",
      "currentFile ./GPX Files\\Sachsenring\\Race_20180809T124152.gpx\n",
      "total datapoints: 250227\n",
      "currentFile ./GPX Files\\Sachsenring\\Race_20180810T100821.gpx\n",
      "total datapoints: 253872\n",
      "currentFile ./GPX Files\\Sachsenring\\Race_20180810T102105.gpx\n",
      "total datapoints: 259379\n",
      "currentFile ./GPX Files\\Sachsenring\\Race_20180810T111246.gpx\n",
      "total datapoints: 265357\n"
     ]
    }
   ],
   "source": [
    "import glob\n",
    "import xml.etree.ElementTree as ET\n",
    "namespace = \"{http://www.topografix.com/GPX/1/1}\"\n",
    "root_dir = './GPX Files\\\\'\n",
    "\n",
    "#data should look like this, so it can be converted to pandas dataframe:\n",
    "data = []\n",
    "#dict to store race info like circuitname lap etc.\n",
    "raceinfo = {\"circuitname\": \"\", \"racenumber\": -1, \"lapCounter\":0, \"tracklength\": 0}\n",
    "for filename in glob.iglob(root_dir + '**/*.gpx', recursive=True):\n",
    "    \n",
    "    #if FileName is Track: Skip\n",
    "    if 'Track' in str(filename):\n",
    "        continue\n",
    "        \n",
    "    print ('currentFile', filename)\n",
    "    \n",
    "    currentcircuitname = filename.split(root_dir)[1].split(\"\\\\\")[0]\n",
    "    #racefilename = filename.split(root_dir)[1].split(\"\\\\\")[1]\n",
    "\n",
    "    # reset racenumber on new type of circuit\n",
    "    if currentcircuitname != raceinfo[\"circuitname\"]:\n",
    "        raceinfo[\"racenumber\"] = 1\n",
    "        raceinfo[\"circuitname\"] = currentcircuitname\n",
    "                \n",
    "    # reset laps\n",
    "    raceinfo[\"lapCounter\"] = 0\n",
    "        \n",
    "    root = ET.parse(filename).getroot()\n",
    "    \n",
    "    #RaceDriver Id and Name\n",
    "    raceMeta = root.find (namespace + \"metadata\").find(namespace + \"extensions\").find(namespace + \"raceMeta\")\n",
    "    userProfileName = None\n",
    "    userProfileGUID = None\n",
    "    for amgraw in raceMeta.findall(\"*\"):\n",
    "        amg = str(amgraw).split(\"{https://www.mercedes-amg.com/xsd/gpx-ext}\")[1].split('\\'')[0]\n",
    "        if amg == \"userProfileName\":\n",
    "            userProfileName = str(amgraw.text)\n",
    "        elif amg == \"userProfileGUID\":\n",
    "            userProfileGUID = str(amgraw.text)\n",
    "            \n",
    "    #track length\n",
    "    trackmeta = root.find (namespace + \"metadata\").find(namespace + \"extensions\").find(namespace + \"trackMeta\")\n",
    "    for amgraw in trackmeta.findall(\"*\"):\n",
    "        amg = str(amgraw).split(\"{https://www.mercedes-amg.com/xsd/gpx-ext}\")[1].split('\\'')[0]\n",
    "        if amg == \"length\":\n",
    "            raceinfo[\"tracklength\"] = str(amgraw.text)\n",
    "        \n",
    "    raceinfo[\"userProfileName\"] = userProfileName\n",
    "    raceinfo[\"userProfileGUID\"] = userProfileGUID\n",
    "        \n",
    "    for lap in root.findall(namespace + \"trk\"):\n",
    "        #first <trk>(=fist lap) is only general trackdata and is not needed\n",
    "        if raceinfo[\"lapCounter\"] > 0:\n",
    "            #get AverageLapSpeed in kmh and Top Speed  in kmh + Laptime in ms\n",
    "            averageLapSpeed = float(lap.find(namespace + \"extensions\").find(namespace + \"lapAverageSpeed\").text)/10\n",
    "            topLapSpeed = float(lap.find(namespace + \"extensions\").find(namespace + \"lapTopSpeed\").text)/10\n",
    "            lapTime = float(lap.find(namespace + \"extensions\").find(namespace + \"lapTime\").text)/1000\n",
    "            \n",
    "            raceinfo[\"segCounter\"] = 1\n",
    "            for seg in lap.findall(namespace +\"trkseg\"):\n",
    "                for trkpt in seg.findall(namespace + \"trkpt\"):\n",
    "                    #add race data\n",
    "                    current_trkpt_data = copy.deepcopy(raceinfo)\n",
    "                    #add lap data\n",
    "                    current_trkpt_data[\"averageLapSpeed\"] = averageLapSpeed\n",
    "                    current_trkpt_data[\"topLapSpeed\"] = topLapSpeed\n",
    "                    current_trkpt_data[\"lapTime\"] = lapTime\n",
    "                    #copy trackpoint attributes\n",
    "                    current_trkpt_data.update(trkpt.attrib)\n",
    "                    #copy tags of trackpint\n",
    "                    for tag in trkpt.find(namespace + \"extensions\").findall(\"*\"):\n",
    "                        key = str(tag).split(namespace)[1].split(\"'\")[0]\n",
    "                        value = tag.text\n",
    "                        current_trkpt_data[key] = value\n",
    "                    #add to data\n",
    "                    data.append(copy.deepcopy(current_trkpt_data))\n",
    "                raceinfo[\"segCounter\"]+=1\n",
    "        raceinfo[\"lapCounter\"]+=1\n",
    "    raceinfo[\"racenumber\"]+=1\n",
    "    print(\"total datapoints: \" + str(len(data)))\n"
   ]
  },
  {
   "cell_type": "code",
   "execution_count": 3,
   "id": "f6c994e8",
   "metadata": {},
   "outputs": [],
   "source": [
    "df = pd.DataFrame(data)"
   ]
  },
  {
   "cell_type": "code",
   "execution_count": 4,
   "id": "1d1b0cec",
   "metadata": {},
   "outputs": [
    {
     "data": {
      "text/plain": [
       "(265357, 142)"
      ]
     },
     "execution_count": 4,
     "metadata": {},
     "output_type": "execute_result"
    }
   ],
   "source": [
    "df.shape"
   ]
  },
  {
   "cell_type": "markdown",
   "id": "9e6236ba",
   "metadata": {},
   "source": [
    "## 2.) Data Exploration: Lets get some overview"
   ]
  },
  {
   "cell_type": "code",
   "execution_count": 5,
   "id": "3c35b1a8",
   "metadata": {},
   "outputs": [],
   "source": [
    "#number of races and segments per circuitname"
   ]
  },
  {
   "cell_type": "code",
   "execution_count": 6,
   "id": "bec8b549",
   "metadata": {},
   "outputs": [
    {
     "data": {
      "text/html": [
       "<div>\n",
       "<style scoped>\n",
       "    .dataframe tbody tr th:only-of-type {\n",
       "        vertical-align: middle;\n",
       "    }\n",
       "\n",
       "    .dataframe tbody tr th {\n",
       "        vertical-align: top;\n",
       "    }\n",
       "\n",
       "    .dataframe thead th {\n",
       "        text-align: right;\n",
       "    }\n",
       "</style>\n",
       "<table border=\"1\" class=\"dataframe\">\n",
       "  <thead>\n",
       "    <tr style=\"text-align: right;\">\n",
       "      <th></th>\n",
       "      <th>racenumber</th>\n",
       "      <th>segCounter</th>\n",
       "    </tr>\n",
       "    <tr>\n",
       "      <th>circuitname</th>\n",
       "      <th></th>\n",
       "      <th></th>\n",
       "    </tr>\n",
       "  </thead>\n",
       "  <tbody>\n",
       "    <tr>\n",
       "      <th>Circuit Ricardo Tormo unofficial</th>\n",
       "      <td>15</td>\n",
       "      <td>3</td>\n",
       "    </tr>\n",
       "    <tr>\n",
       "      <th>Circuito del Jarama</th>\n",
       "      <td>3</td>\n",
       "      <td>1</td>\n",
       "    </tr>\n",
       "    <tr>\n",
       "      <th>Idiada Handling</th>\n",
       "      <td>5</td>\n",
       "      <td>1</td>\n",
       "    </tr>\n",
       "    <tr>\n",
       "      <th>Sachsenring</th>\n",
       "      <td>15</td>\n",
       "      <td>3</td>\n",
       "    </tr>\n",
       "  </tbody>\n",
       "</table>\n",
       "</div>"
      ],
      "text/plain": [
       "                                  racenumber  segCounter\n",
       "circuitname                                             \n",
       "Circuit Ricardo Tormo unofficial          15           3\n",
       "Circuito del Jarama                        3           1\n",
       "Idiada Handling                            5           1\n",
       "Sachsenring                               15           3"
      ]
     },
     "execution_count": 6,
     "metadata": {},
     "output_type": "execute_result"
    }
   ],
   "source": [
    "df_overview_0 = df[['circuitname', 'racenumber', 'segCounter']].groupby('circuitname').max()\n",
    "df_overview_0"
   ]
  },
  {
   "cell_type": "code",
   "execution_count": 7,
   "id": "21e068c0",
   "metadata": {},
   "outputs": [
    {
     "data": {
      "text/html": [
       "<div>\n",
       "<style scoped>\n",
       "    .dataframe tbody tr th:only-of-type {\n",
       "        vertical-align: middle;\n",
       "    }\n",
       "\n",
       "    .dataframe tbody tr th {\n",
       "        vertical-align: top;\n",
       "    }\n",
       "\n",
       "    .dataframe thead th {\n",
       "        text-align: right;\n",
       "    }\n",
       "</style>\n",
       "<table border=\"1\" class=\"dataframe\">\n",
       "  <thead>\n",
       "    <tr style=\"text-align: right;\">\n",
       "      <th></th>\n",
       "      <th>racenumber</th>\n",
       "      <th>segCounter</th>\n",
       "      <th>total laps</th>\n",
       "    </tr>\n",
       "    <tr>\n",
       "      <th>circuitname</th>\n",
       "      <th></th>\n",
       "      <th></th>\n",
       "      <th></th>\n",
       "    </tr>\n",
       "  </thead>\n",
       "  <tbody>\n",
       "    <tr>\n",
       "      <th>Circuit Ricardo Tormo unofficial</th>\n",
       "      <td>15</td>\n",
       "      <td>3</td>\n",
       "      <td>91</td>\n",
       "    </tr>\n",
       "    <tr>\n",
       "      <th>Circuito del Jarama</th>\n",
       "      <td>3</td>\n",
       "      <td>1</td>\n",
       "      <td>5</td>\n",
       "    </tr>\n",
       "    <tr>\n",
       "      <th>Idiada Handling</th>\n",
       "      <td>5</td>\n",
       "      <td>1</td>\n",
       "      <td>25</td>\n",
       "    </tr>\n",
       "    <tr>\n",
       "      <th>Sachsenring</th>\n",
       "      <td>15</td>\n",
       "      <td>3</td>\n",
       "      <td>43</td>\n",
       "    </tr>\n",
       "  </tbody>\n",
       "</table>\n",
       "</div>"
      ],
      "text/plain": [
       "                                  racenumber  segCounter  total laps\n",
       "circuitname                                                         \n",
       "Circuit Ricardo Tormo unofficial          15           3          91\n",
       "Circuito del Jarama                        3           1           5\n",
       "Idiada Handling                            5           1          25\n",
       "Sachsenring                               15           3          43"
      ]
     },
     "execution_count": 7,
     "metadata": {},
     "output_type": "execute_result"
    }
   ],
   "source": [
    "#number of total laps per circuitname\n",
    "df_lapcounter = df[['circuitname', 'racenumber','lapCounter']].groupby(['circuitname','racenumber']).max(['lapCounter']) \\\n",
    ".groupby('circuitname').sum()\n",
    "df_overview_1 = df_overview_0.copy()\n",
    "df_overview_1[\"total laps\"] = df_lapcounter\n",
    "df_overview_1"
   ]
  },
  {
   "cell_type": "code",
   "execution_count": 8,
   "id": "627173fb",
   "metadata": {},
   "outputs": [
    {
     "data": {
      "text/html": [
       "<div>\n",
       "<style scoped>\n",
       "    .dataframe tbody tr th:only-of-type {\n",
       "        vertical-align: middle;\n",
       "    }\n",
       "\n",
       "    .dataframe tbody tr th {\n",
       "        vertical-align: top;\n",
       "    }\n",
       "\n",
       "    .dataframe thead th {\n",
       "        text-align: right;\n",
       "    }\n",
       "</style>\n",
       "<table border=\"1\" class=\"dataframe\">\n",
       "  <thead>\n",
       "    <tr style=\"text-align: right;\">\n",
       "      <th></th>\n",
       "      <th>racenumber</th>\n",
       "      <th>segCounter</th>\n",
       "      <th>total laps</th>\n",
       "      <th>total_trackpoints</th>\n",
       "    </tr>\n",
       "    <tr>\n",
       "      <th>circuitname</th>\n",
       "      <th></th>\n",
       "      <th></th>\n",
       "      <th></th>\n",
       "      <th></th>\n",
       "    </tr>\n",
       "  </thead>\n",
       "  <tbody>\n",
       "    <tr>\n",
       "      <th>Circuit Ricardo Tormo unofficial</th>\n",
       "      <td>15</td>\n",
       "      <td>3</td>\n",
       "      <td>91</td>\n",
       "      <td>191087</td>\n",
       "    </tr>\n",
       "    <tr>\n",
       "      <th>Circuito del Jarama</th>\n",
       "      <td>3</td>\n",
       "      <td>1</td>\n",
       "      <td>5</td>\n",
       "      <td>6091</td>\n",
       "    </tr>\n",
       "    <tr>\n",
       "      <th>Idiada Handling</th>\n",
       "      <td>5</td>\n",
       "      <td>1</td>\n",
       "      <td>25</td>\n",
       "      <td>17270</td>\n",
       "    </tr>\n",
       "    <tr>\n",
       "      <th>Sachsenring</th>\n",
       "      <td>15</td>\n",
       "      <td>3</td>\n",
       "      <td>43</td>\n",
       "      <td>50909</td>\n",
       "    </tr>\n",
       "  </tbody>\n",
       "</table>\n",
       "</div>"
      ],
      "text/plain": [
       "                                  racenumber  segCounter  total laps  \\\n",
       "circuitname                                                            \n",
       "Circuit Ricardo Tormo unofficial          15           3          91   \n",
       "Circuito del Jarama                        3           1           5   \n",
       "Idiada Handling                            5           1          25   \n",
       "Sachsenring                               15           3          43   \n",
       "\n",
       "                                  total_trackpoints  \n",
       "circuitname                                          \n",
       "Circuit Ricardo Tormo unofficial             191087  \n",
       "Circuito del Jarama                            6091  \n",
       "Idiada Handling                               17270  \n",
       "Sachsenring                                   50909  "
      ]
     },
     "execution_count": 8,
     "metadata": {},
     "output_type": "execute_result"
    }
   ],
   "source": [
    "#number of total trackpoints per circuitname\n",
    "df_total_trackpoints = df['circuitname'].value_counts().to_frame('trackpoints')\n",
    "df_overview_2 = df_overview_1.copy()\n",
    "df_overview_2[\"total_trackpoints\"] = df_total_trackpoints\n",
    "df_overview_2"
   ]
  },
  {
   "cell_type": "code",
   "execution_count": 9,
   "id": "68512549",
   "metadata": {},
   "outputs": [
    {
     "data": {
      "text/html": [
       "<div>\n",
       "<style scoped>\n",
       "    .dataframe tbody tr th:only-of-type {\n",
       "        vertical-align: middle;\n",
       "    }\n",
       "\n",
       "    .dataframe tbody tr th {\n",
       "        vertical-align: top;\n",
       "    }\n",
       "\n",
       "    .dataframe thead th {\n",
       "        text-align: right;\n",
       "    }\n",
       "</style>\n",
       "<table border=\"1\" class=\"dataframe\">\n",
       "  <thead>\n",
       "    <tr style=\"text-align: right;\">\n",
       "      <th></th>\n",
       "      <th>racenumber</th>\n",
       "      <th>segCounter</th>\n",
       "      <th>total laps</th>\n",
       "      <th>total_trackpoints</th>\n",
       "      <th>mean trackpoint/lap</th>\n",
       "    </tr>\n",
       "    <tr>\n",
       "      <th>circuitname</th>\n",
       "      <th></th>\n",
       "      <th></th>\n",
       "      <th></th>\n",
       "      <th></th>\n",
       "      <th></th>\n",
       "    </tr>\n",
       "  </thead>\n",
       "  <tbody>\n",
       "    <tr>\n",
       "      <th>Circuit Ricardo Tormo unofficial</th>\n",
       "      <td>15</td>\n",
       "      <td>3</td>\n",
       "      <td>91</td>\n",
       "      <td>191087</td>\n",
       "      <td>2099.857143</td>\n",
       "    </tr>\n",
       "    <tr>\n",
       "      <th>Circuito del Jarama</th>\n",
       "      <td>3</td>\n",
       "      <td>1</td>\n",
       "      <td>5</td>\n",
       "      <td>6091</td>\n",
       "      <td>1218.200000</td>\n",
       "    </tr>\n",
       "    <tr>\n",
       "      <th>Idiada Handling</th>\n",
       "      <td>5</td>\n",
       "      <td>1</td>\n",
       "      <td>25</td>\n",
       "      <td>17270</td>\n",
       "      <td>690.800000</td>\n",
       "    </tr>\n",
       "    <tr>\n",
       "      <th>Sachsenring</th>\n",
       "      <td>15</td>\n",
       "      <td>3</td>\n",
       "      <td>43</td>\n",
       "      <td>50909</td>\n",
       "      <td>1183.930233</td>\n",
       "    </tr>\n",
       "  </tbody>\n",
       "</table>\n",
       "</div>"
      ],
      "text/plain": [
       "                                  racenumber  segCounter  total laps  \\\n",
       "circuitname                                                            \n",
       "Circuit Ricardo Tormo unofficial          15           3          91   \n",
       "Circuito del Jarama                        3           1           5   \n",
       "Idiada Handling                            5           1          25   \n",
       "Sachsenring                               15           3          43   \n",
       "\n",
       "                                  total_trackpoints  mean trackpoint/lap  \n",
       "circuitname                                                               \n",
       "Circuit Ricardo Tormo unofficial             191087          2099.857143  \n",
       "Circuito del Jarama                            6091          1218.200000  \n",
       "Idiada Handling                               17270           690.800000  \n",
       "Sachsenring                                   50909          1183.930233  "
      ]
     },
     "execution_count": 9,
     "metadata": {},
     "output_type": "execute_result"
    }
   ],
   "source": [
    "#mean number of trackpoints per lap\n",
    "df_mean_number_of_trackpoints_per_lap= df[['circuitname', 'racenumber','lapCounter']].\\\n",
    "groupby(['circuitname','racenumber','lapCounter']).size().groupby(\"circuitname\").mean().to_frame(\"mean trackpoint/lap\")\n",
    "df_mean_number_of_trackpoints_per_lap = df_mean_number_of_trackpoints_per_lap.reset_index()\n",
    "\n",
    "df_overview_3 = df_overview_2.copy()\n",
    "df_overview_3[\"mean trackpoint/lap\"] = list(df_mean_number_of_trackpoints_per_lap[\"mean trackpoint/lap\"])\n",
    "df_overview_3\n"
   ]
  },
  {
   "cell_type": "code",
   "execution_count": 10,
   "id": "e8f3b8eb",
   "metadata": {},
   "outputs": [
    {
     "data": {
      "text/html": [
       "<div>\n",
       "<style scoped>\n",
       "    .dataframe tbody tr th:only-of-type {\n",
       "        vertical-align: middle;\n",
       "    }\n",
       "\n",
       "    .dataframe tbody tr th {\n",
       "        vertical-align: top;\n",
       "    }\n",
       "\n",
       "    .dataframe thead th {\n",
       "        text-align: right;\n",
       "    }\n",
       "</style>\n",
       "<table border=\"1\" class=\"dataframe\">\n",
       "  <thead>\n",
       "    <tr style=\"text-align: right;\">\n",
       "      <th></th>\n",
       "      <th>racenumber</th>\n",
       "      <th>segCounter</th>\n",
       "      <th>total laps</th>\n",
       "      <th>total_trackpoints</th>\n",
       "      <th>mean trackpoint/lap</th>\n",
       "      <th>tracklength</th>\n",
       "    </tr>\n",
       "    <tr>\n",
       "      <th>circuitname</th>\n",
       "      <th></th>\n",
       "      <th></th>\n",
       "      <th></th>\n",
       "      <th></th>\n",
       "      <th></th>\n",
       "      <th></th>\n",
       "    </tr>\n",
       "  </thead>\n",
       "  <tbody>\n",
       "    <tr>\n",
       "      <th>Circuit Ricardo Tormo unofficial</th>\n",
       "      <td>15</td>\n",
       "      <td>3</td>\n",
       "      <td>91</td>\n",
       "      <td>191087</td>\n",
       "      <td>2099.857143</td>\n",
       "      <td>3959.47</td>\n",
       "    </tr>\n",
       "    <tr>\n",
       "      <th>Circuito del Jarama</th>\n",
       "      <td>3</td>\n",
       "      <td>1</td>\n",
       "      <td>5</td>\n",
       "      <td>6091</td>\n",
       "      <td>1218.200000</td>\n",
       "      <td>3850.37</td>\n",
       "    </tr>\n",
       "    <tr>\n",
       "      <th>Idiada Handling</th>\n",
       "      <td>5</td>\n",
       "      <td>1</td>\n",
       "      <td>25</td>\n",
       "      <td>17270</td>\n",
       "      <td>690.800000</td>\n",
       "      <td>2148.52</td>\n",
       "    </tr>\n",
       "    <tr>\n",
       "      <th>Sachsenring</th>\n",
       "      <td>15</td>\n",
       "      <td>3</td>\n",
       "      <td>43</td>\n",
       "      <td>50909</td>\n",
       "      <td>1183.930233</td>\n",
       "      <td>3572.85</td>\n",
       "    </tr>\n",
       "  </tbody>\n",
       "</table>\n",
       "</div>"
      ],
      "text/plain": [
       "                                  racenumber  segCounter  total laps  \\\n",
       "circuitname                                                            \n",
       "Circuit Ricardo Tormo unofficial          15           3          91   \n",
       "Circuito del Jarama                        3           1           5   \n",
       "Idiada Handling                            5           1          25   \n",
       "Sachsenring                               15           3          43   \n",
       "\n",
       "                                  total_trackpoints  mean trackpoint/lap  \\\n",
       "circuitname                                                                \n",
       "Circuit Ricardo Tormo unofficial             191087          2099.857143   \n",
       "Circuito del Jarama                            6091          1218.200000   \n",
       "Idiada Handling                               17270           690.800000   \n",
       "Sachsenring                                   50909          1183.930233   \n",
       "\n",
       "                                  tracklength  \n",
       "circuitname                                    \n",
       "Circuit Ricardo Tormo unofficial      3959.47  \n",
       "Circuito del Jarama                   3850.37  \n",
       "Idiada Handling                       2148.52  \n",
       "Sachsenring                           3572.85  "
      ]
     },
     "execution_count": 10,
     "metadata": {},
     "output_type": "execute_result"
    }
   ],
   "source": [
    "#circuit lenght and mean meters/ trackpoint\n",
    "df_length = df[['circuitname','tracklength']].groupby(['circuitname','tracklength']).max()[:4]\n",
    "df_length=df_length.reset_index()\n",
    "df_overview_4 = df_overview_3.copy()\n",
    "df_overview_4[\"tracklength\"] = list(df_length[\"tracklength\"])\n",
    "df_overview_4[\"tracklength\"] = df_overview_4[\"tracklength\"].astype(float, errors = 'raise')\n",
    "df_overview_4"
   ]
  },
  {
   "cell_type": "code",
   "execution_count": 11,
   "id": "a93779a8",
   "metadata": {},
   "outputs": [
    {
     "data": {
      "text/html": [
       "<div>\n",
       "<style scoped>\n",
       "    .dataframe tbody tr th:only-of-type {\n",
       "        vertical-align: middle;\n",
       "    }\n",
       "\n",
       "    .dataframe tbody tr th {\n",
       "        vertical-align: top;\n",
       "    }\n",
       "\n",
       "    .dataframe thead th {\n",
       "        text-align: right;\n",
       "    }\n",
       "</style>\n",
       "<table border=\"1\" class=\"dataframe\">\n",
       "  <thead>\n",
       "    <tr style=\"text-align: right;\">\n",
       "      <th></th>\n",
       "      <th>racenumber</th>\n",
       "      <th>segCounter</th>\n",
       "      <th>total laps</th>\n",
       "      <th>total_trackpoints</th>\n",
       "      <th>mean trackpoint/lap</th>\n",
       "      <th>tracklength</th>\n",
       "      <th>mean meter per trackpoint</th>\n",
       "    </tr>\n",
       "    <tr>\n",
       "      <th>circuitname</th>\n",
       "      <th></th>\n",
       "      <th></th>\n",
       "      <th></th>\n",
       "      <th></th>\n",
       "      <th></th>\n",
       "      <th></th>\n",
       "      <th></th>\n",
       "    </tr>\n",
       "  </thead>\n",
       "  <tbody>\n",
       "    <tr>\n",
       "      <th>Circuit Ricardo Tormo unofficial</th>\n",
       "      <td>15</td>\n",
       "      <td>3</td>\n",
       "      <td>91</td>\n",
       "      <td>191087</td>\n",
       "      <td>2099.857143</td>\n",
       "      <td>3959.47</td>\n",
       "      <td>1.885590</td>\n",
       "    </tr>\n",
       "    <tr>\n",
       "      <th>Circuito del Jarama</th>\n",
       "      <td>3</td>\n",
       "      <td>1</td>\n",
       "      <td>5</td>\n",
       "      <td>6091</td>\n",
       "      <td>1218.200000</td>\n",
       "      <td>3850.37</td>\n",
       "      <td>3.160704</td>\n",
       "    </tr>\n",
       "    <tr>\n",
       "      <th>Idiada Handling</th>\n",
       "      <td>5</td>\n",
       "      <td>1</td>\n",
       "      <td>25</td>\n",
       "      <td>17270</td>\n",
       "      <td>690.800000</td>\n",
       "      <td>2148.52</td>\n",
       "      <td>3.110191</td>\n",
       "    </tr>\n",
       "    <tr>\n",
       "      <th>Sachsenring</th>\n",
       "      <td>15</td>\n",
       "      <td>3</td>\n",
       "      <td>43</td>\n",
       "      <td>50909</td>\n",
       "      <td>1183.930233</td>\n",
       "      <td>3572.85</td>\n",
       "      <td>3.017788</td>\n",
       "    </tr>\n",
       "  </tbody>\n",
       "</table>\n",
       "</div>"
      ],
      "text/plain": [
       "                                  racenumber  segCounter  total laps  \\\n",
       "circuitname                                                            \n",
       "Circuit Ricardo Tormo unofficial          15           3          91   \n",
       "Circuito del Jarama                        3           1           5   \n",
       "Idiada Handling                            5           1          25   \n",
       "Sachsenring                               15           3          43   \n",
       "\n",
       "                                  total_trackpoints  mean trackpoint/lap  \\\n",
       "circuitname                                                                \n",
       "Circuit Ricardo Tormo unofficial             191087          2099.857143   \n",
       "Circuito del Jarama                            6091          1218.200000   \n",
       "Idiada Handling                               17270           690.800000   \n",
       "Sachsenring                                   50909          1183.930233   \n",
       "\n",
       "                                  tracklength  mean meter per trackpoint  \n",
       "circuitname                                                               \n",
       "Circuit Ricardo Tormo unofficial      3959.47                   1.885590  \n",
       "Circuito del Jarama                   3850.37                   3.160704  \n",
       "Idiada Handling                       2148.52                   3.110191  \n",
       "Sachsenring                           3572.85                   3.017788  "
      ]
     },
     "execution_count": 11,
     "metadata": {},
     "output_type": "execute_result"
    }
   ],
   "source": [
    "df_overview_4['mean meter per trackpoint'] = df_overview_4['tracklength'] / df_overview_4[\"mean trackpoint/lap\"]\n",
    "df_overview_4"
   ]
  },
  {
   "cell_type": "markdown",
   "id": "7af1262d",
   "metadata": {},
   "source": [
    "### 2.1) Lap-times\n",
    "\n",
    "Lets find out about the laptimes per Lap per circuit."
   ]
  },
  {
   "cell_type": "code",
   "execution_count": 12,
   "id": "1598650b",
   "metadata": {},
   "outputs": [
    {
     "data": {
      "text/plain": [
       "<AxesSubplot:title={'center':'Lap times for Circuit Ricardo Tormo unofficial'}>"
      ]
     },
     "execution_count": 12,
     "metadata": {},
     "output_type": "execute_result"
    },
    {
     "data": {
      "image/png": "[encoded data removed]",
      "text/plain": [
       "<Figure size 720x1440 with 1 Axes>"
      ]
     },
     "metadata": {
      "needs_background": "light"
     },
     "output_type": "display_data"
    }
   ],
   "source": [
    "df_laptimes = df[[\"circuitname\",\"racenumber\",\"lapCounter\", \"lapTime\"]].groupby([\"circuitname\",\"racenumber\",\"lapCounter\"]).max()\n",
    "df_laptimes=df_laptimes.reset_index()\n",
    "\n",
    "df_laptime_1 =df_laptimes.loc[df_laptimes['circuitname'] == \"Circuit Ricardo Tormo unofficial\"].sort_values(\"lapTime\")\n",
    "df_laptime_1 = df_laptime_1[::-1]\n",
    "df_laptime_1.reset_index()[\"lapTime\"].\\\n",
    "plot.barh( x=\"lapTime\",y=\"index\",figsize=(10,20), title = \"Lap times for Circuit Ricardo Tormo unofficial\")"
   ]
  },
  {
   "cell_type": "code",
   "execution_count": 13,
   "id": "2d2c654a",
   "metadata": {},
   "outputs": [
    {
     "data": {
      "text/plain": [
       "<AxesSubplot:title={'center':'Lap times for Circuito del Jarama'}>"
      ]
     },
     "execution_count": 13,
     "metadata": {},
     "output_type": "execute_result"
    },
    {
     "data": {
      "image/png": "[encoded data removed]",
      "text/plain": [
       "<Figure size 720x216 with 1 Axes>"
      ]
     },
     "metadata": {
      "needs_background": "light"
     },
     "output_type": "display_data"
    }
   ],
   "source": [
    "df_laptime_2 =df_laptimes.loc[df_laptimes['circuitname'] == \"Circuito del Jarama\"].sort_values(\"lapTime\")\n",
    "df_laptime_2 = df_laptime_2[::-1]\n",
    "df_laptime_2.reset_index()[\"lapTime\"].\\\n",
    "plot.barh( x=\"lapTime\",y=\"index\",figsize=(10,3), title = \"Lap times for Circuito del Jarama\")"
   ]
  },
  {
   "cell_type": "code",
   "execution_count": 14,
   "id": "042e4755",
   "metadata": {},
   "outputs": [
    {
     "data": {
      "text/plain": [
       "<AxesSubplot:title={'center':'Lap times for Idiada Handling'}>"
      ]
     },
     "execution_count": 14,
     "metadata": {},
     "output_type": "execute_result"
    },
    {
     "data": {
      "image/png": "[encoded data removed]",
      "text/plain": [
       "<Figure size 720x216 with 1 Axes>"
      ]
     },
     "metadata": {
      "needs_background": "light"
     },
     "output_type": "display_data"
    }
   ],
   "source": [
    "df_laptime_3 =df_laptimes.loc[df_laptimes['circuitname'] == \"Idiada Handling\"].sort_values(\"lapTime\")\n",
    "df_laptime_3 = df_laptime_3[::-1]\n",
    "df_laptime_3.reset_index()[\"lapTime\"].\\\n",
    "plot.barh( x=\"lapTime\",y=\"index\",figsize=(10,3), title = \"Lap times for Idiada Handling\")"
   ]
  },
  {
   "cell_type": "code",
   "execution_count": 15,
   "id": "2028a89e",
   "metadata": {
    "scrolled": true
   },
   "outputs": [
    {
     "data": {
      "text/plain": [
       "<AxesSubplot:title={'center':'Lap times for Sachsenring'}>"
      ]
     },
     "execution_count": 15,
     "metadata": {},
     "output_type": "execute_result"
    },
    {
     "data": {
      "image/png": "[encoded data removed]",
      "text/plain": [
       "<Figure size 720x360 with 1 Axes>"
      ]
     },
     "metadata": {
      "needs_background": "light"
     },
     "output_type": "display_data"
    }
   ],
   "source": [
    "df_laptime_4 =df_laptimes.loc[df_laptimes['circuitname'] == \"Sachsenring\"].sort_values(\"lapTime\")\n",
    "df_laptime_4 = df_laptime_4[::-1]\n",
    "df_laptime_4.reset_index()[\"lapTime\"].\\\n",
    "plot.barh( x=\"lapTime\",y=\"index\",figsize=(10,5), title = \"Lap times for Sachsenring\")"
   ]
  },
  {
   "cell_type": "markdown",
   "id": "f5ef77c7",
   "metadata": {},
   "source": [
    "### 2.2 Data Consistency\n",
    "\n",
    "Some measurements are given for every Trackpoint some are only given for some Trackpoints. Lets get an intel."
   ]
  },
  {
   "cell_type": "code",
   "execution_count": 16,
   "id": "56c6f00b",
   "metadata": {},
   "outputs": [
    {
     "data": {
      "text/plain": [
       "<AxesSubplot:>"
      ]
     },
     "execution_count": 16,
     "metadata": {},
     "output_type": "execute_result"
    },
    {
     "data": {
      "image/png": "[encoded data removed]",
      "text/plain": [
       "<Figure size 1440x2880 with 1 Axes>"
      ]
     },
     "metadata": {
      "needs_background": "light"
     },
     "output_type": "display_data"
    }
   ],
   "source": [
    "df_isnot_null = df.count()\n",
    "df_isnot_null = df_isnot_null.sort_values()\n",
    "df_isnot_null.plot.barh(x=1, y=0, figsize=(20,40))"
   ]
  },
  {
   "cell_type": "code",
   "execution_count": 17,
   "id": "02976e12",
   "metadata": {},
   "outputs": [
    {
     "data": {
      "text/plain": [
       "15"
      ]
     },
     "execution_count": 17,
     "metadata": {},
     "output_type": "execute_result"
    }
   ],
   "source": [
    "(df_isnot_null == df_isnot_null.max()).sum()"
   ]
  },
  {
   "cell_type": "markdown",
   "id": "3454e23e",
   "metadata": {},
   "source": [
    "15 Measurements are given for every Trackpoint. 127 are not given for every Trackpoint."
   ]
  },
  {
   "cell_type": "markdown",
   "id": "545c661b",
   "metadata": {},
   "source": [
    "As we can see much data is not recorded for every Trackpoint. Lets check following important data:\n",
    "- latitude\n",
    "- longitude\n",
    "- gear\n",
    "- distance since start\n",
    "- heading direction\n",
    "- speed\n",
    "- throttle\n",
    "- braking torque\n",
    "- steering angle"
   ]
  },
  {
   "cell_type": "code",
   "execution_count": 18,
   "id": "356987b0",
   "metadata": {},
   "outputs": [
    {
     "data": {
      "text/plain": [
       "<AxesSubplot:ylabel='measurement'>"
      ]
     },
     "execution_count": 18,
     "metadata": {},
     "output_type": "execute_result"
    },
    {
     "data": {
      "image/png": "[encoded data removed]",
      "text/plain": [
       "<Figure size 360x360 with 1 Axes>"
      ]
     },
     "metadata": {
      "needs_background": "light"
     },
     "output_type": "display_data"
    }
   ],
   "source": [
    "important_dataframe = df[['lat', 'lon', \"ag\", \"dfs\", \"h\", \"v\", \"app\", \"btd\", \"swa\", \"circuitname\", \"racenumber\"]] \n",
    "important_dataframe = important_dataframe.groupby([\"circuitname\", \"racenumber\"]).apply(lambda x: x.notnull().all())\n",
    "del important_dataframe['racenumber']\n",
    "del important_dataframe['circuitname']\n",
    "\n",
    "important_dataframe_resettted =important_dataframe.reset_index(drop=True).sum().sort_values()\n",
    "important_dataframe_resettted.plot.barh(figsize=(5,5),ylabel= \"measurement\")"
   ]
  },
  {
   "cell_type": "markdown",
   "id": "3c2233f8",
   "metadata": {},
   "source": [
    "heading, distance from start, longtitude, latitude are given for every trackpoint in all races. \n",
    "\n",
    "Speed is only complete for roughly 15 races.\n",
    "\n",
    "Steering angle, braking torque, throttle and gear are not completely given for no race. \n",
    "\n",
    "### 2.3 Data Ranges"
   ]
  },
  {
   "cell_type": "code",
   "execution_count": 249,
   "id": "2395d2d4",
   "metadata": {},
   "outputs": [
    {
     "name": "stdout",
     "output_type": "stream",
     "text": [
      "Distance from start has a range from 0.0 to 3979.29 metres.\n",
      "Heading has a range from 7.71935e-06 to 359.999 degrees.\n",
      "Speed has a range from 0.0 to 80.7151 metres per second.\n",
      "Gear has a range from 0.0 to 13.0\n",
      "Break Torque has a range from 0.0 to 4890.0Nm.\n",
      "steering wheel has a range from -353.2 to 409.2 degrees.\n",
      "Throttle has a range from -128.0 to 250.0\n"
     ]
    }
   ],
   "source": [
    "print(\"Distance from start has a range from \" + str(df[\"dfs\"].astype(float).min()) +\\\n",
    "      \" to \" + str(df[\"dfs\"].astype(float).max()) + \" metres.\")\n",
    "print(\"Heading has a range from \" + str(df[\"h\"].astype(float).min()) +\\\n",
    "      \" to \" + str(df[\"h\"].astype(float).max()) + \" degrees.\")\n",
    "print(\"Speed has a range from \" + str(df[\"v\"].astype(float).min()) + \" to \" + str(df[\"v\"].astype(float).max())+ \" metres per second.\")\n",
    "print(\"Gear has a range from \" + str(df[\"ag\"].astype(float).min()) + \" to \" + str(df[\"ag\"].astype(float).max()))\n",
    "print(\"Break Torque has a range from \" + str(df[\"btd\"].astype(float).min()) + \" to \" + str(df[\"btd\"].astype(float).max())+ \"Nm.\")\n",
    "print(\"steering wheel has a range from \" + str(df[\"swa\"].astype(float).min()/10) + \" to \" + str(df[\"swa\"].astype(float).max()/10) + \" degrees.\")\n",
    "print(\"Throttle has a range from \" + str(df[\"app\"].astype(float).min()) + \" to \" + str(df[\"app\"].astype(float).max()))\n"
   ]
  },
  {
   "cell_type": "markdown",
   "id": "4a12e508",
   "metadata": {},
   "source": [
    "## 3.)Analysis \n",
    "\n",
    "### 3.1 Correlations"
   ]
  },
  {
   "cell_type": "code",
   "execution_count": 20,
   "id": "e4ef49ad",
   "metadata": {},
   "outputs": [],
   "source": [
    "corr_df =df[['lat', 'lon', \"ag\", \"dfs\", \"h\", \"v\", \"app\", \"btd\", \"swa\"]]\n",
    "corr_df = corr_df.apply(pd.to_numeric)\n",
    "#interpolate missing values liner manner-wise\n",
    "corr_df=corr_df.interpolate()"
   ]
  },
  {
   "cell_type": "code",
   "execution_count": 21,
   "id": "79f07251",
   "metadata": {},
   "outputs": [
    {
     "data": {
      "image/png": "[encoded data removed]",
      "text/plain": [
       "<Figure size 1080x720 with 2 Axes>"
      ]
     },
     "metadata": {
      "needs_background": "light"
     },
     "output_type": "display_data"
    }
   ],
   "source": [
    "correlatedData = corr_df.corr()\n",
    "plt.subplots(figsize=(30,20))\n",
    "sns.heatmap(correlatedData, annot=True,cmap = 'coolwarm', vmin = -1)# ,vmin =-1, vmax=1\n",
    "\n",
    "params = {\n",
    "         'ytick.labelsize':'x-large'}\n",
    "\n",
    "fig = plt.gcf()\n",
    "fig.set_size_inches(15, 10)\n",
    "plt.rcParams.update(params)\n"
   ]
  },
  {
   "cell_type": "markdown",
   "id": "9d37d305",
   "metadata": {},
   "source": [
    "For example velocity(v) correlates with throttle(app) highly positive (0.38)."
   ]
  },
  {
   "cell_type": "markdown",
   "id": "5f96c1cd",
   "metadata": {},
   "source": [
    "### 3.2) For some tableau plots we want to use the following features:\n",
    "\n",
    "- circuitname\n",
    "- racenumber\n",
    "- lap\n",
    "- segment\n",
    "- lapTime\n",
    "- userProfileGUID\n",
    "- userProfileName\n",
    "- speed: v\n",
    "- topLapSpeed\n",
    "- averageLapSpeed\n",
    "- total metres driven: dfs\n",
    "- time-stamp: ts\n",
    "- lat\n",
    "- lon"
   ]
  },
  {
   "cell_type": "code",
   "execution_count": 22,
   "id": "434be681",
   "metadata": {},
   "outputs": [],
   "source": [
    "tableau_dataframe = df[['circuitname','racenumber','lapCounter','segCounter','userProfileGUID','userProfileName','lapTime','v', \\\n",
    "                                  'topLapSpeed','averageLapSpeed','dfs', 'ts', 'lat', 'lon']] "
   ]
  },
  {
   "cell_type": "code",
   "execution_count": 23,
   "id": "f99a84d6",
   "metadata": {},
   "outputs": [],
   "source": [
    "#write to File\n",
    "tableau_dataframe.to_csv('secondTask_data.txt', sep=';', index=False)"
   ]
  },
  {
   "cell_type": "markdown",
   "id": "90392f8b",
   "metadata": {},
   "source": [
    "lets see the tableau plots:"
   ]
  },
  {
   "cell_type": "markdown",
   "id": "2cc18fd9",
   "metadata": {},
   "source": [
    "![Dashboard1-image](Dashboard1.png \"Dashboard 1\")"
   ]
  },
  {
   "cell_type": "markdown",
   "id": "e870aa3d",
   "metadata": {},
   "source": [
    "![Dashboard2-image](Dashboard2.png \"Dashboard 2\")"
   ]
  },
  {
   "cell_type": "markdown",
   "id": "60bbae81",
   "metadata": {},
   "source": [
    "This can be explained by the fact that driving uphill costs energy. A greater influence is probably the height difference of the race track in comparison to how the curves are located."
   ]
  },
  {
   "cell_type": "markdown",
   "id": "03f537c6",
   "metadata": {},
   "source": [
    "![Dashboard3-image](Dashboard3.png \"Dashboard 3\")"
   ]
  },
  {
   "cell_type": "markdown",
   "id": "6ca13705",
   "metadata": {},
   "source": [
    "## 3.3 Circuit seperation\n",
    "\n",
    "Lets see if we can automatically detect:\n",
    "- straight parts\n",
    "- Curve entrances\n",
    "- Center of curves\n",
    "- Curve exit\n",
    "- Braking points\n",
    "- Throttle 100% after curve exit\n",
    "\n",
    "\n",
    "Lets get the dataset of the first lap of Circuito del Jarama"
   ]
  },
  {
   "cell_type": "code",
   "execution_count": 206,
   "id": "01d8d1eb",
   "metadata": {},
   "outputs": [
    {
     "data": {
      "text/plain": [
       "index                int64\n",
       "circuitname         object\n",
       "racenumber           int64\n",
       "lapCounter           int64\n",
       "ts                   int64\n",
       "lat                float64\n",
       "lon                float64\n",
       "swa                float64\n",
       "btd                float64\n",
       "app                float64\n",
       "userProfileName     object\n",
       "dtype: object"
      ]
     },
     "execution_count": 206,
     "metadata": {},
     "output_type": "execute_result"
    }
   ],
   "source": [
    "circuit_seperation_df= df[['circuitname','racenumber','lapCounter','ts','lat','lon','swa','btd','app','userProfileName']] \n",
    "circuit_seperation_df = circuit_seperation_df[(circuit_seperation_df.circuitname == 'Circuito del Jarama')]\n",
    "circuit_seperation_df = circuit_seperation_df[(circuit_seperation_df.racenumber == 1)]\n",
    "circuit_seperation_df = circuit_seperation_df[(circuit_seperation_df.lapCounter ==1)]\n",
    "circuit_seperation_df[['racenumber','lapCounter','ts','lat','lon','swa','btd','app']] =\\\n",
    "circuit_seperation_df[['racenumber','lapCounter','ts','lat','lon','swa','btd','app']].apply(pd.to_numeric, errors='coerce')\n",
    "circuit_seperation_df = circuit_seperation_df.reset_index()\n",
    "circuit_seperation_df.dtypes"
   ]
  },
  {
   "cell_type": "code",
   "execution_count": 207,
   "id": "3fe71453",
   "metadata": {},
   "outputs": [
    {
     "data": {
      "text/html": [
       "<div>\n",
       "<style scoped>\n",
       "    .dataframe tbody tr th:only-of-type {\n",
       "        vertical-align: middle;\n",
       "    }\n",
       "\n",
       "    .dataframe tbody tr th {\n",
       "        vertical-align: top;\n",
       "    }\n",
       "\n",
       "    .dataframe thead th {\n",
       "        text-align: right;\n",
       "    }\n",
       "</style>\n",
       "<table border=\"1\" class=\"dataframe\">\n",
       "  <thead>\n",
       "    <tr style=\"text-align: right;\">\n",
       "      <th></th>\n",
       "      <th>index</th>\n",
       "      <th>circuitname</th>\n",
       "      <th>racenumber</th>\n",
       "      <th>lapCounter</th>\n",
       "      <th>ts</th>\n",
       "      <th>lat</th>\n",
       "      <th>lon</th>\n",
       "      <th>swa</th>\n",
       "      <th>btd</th>\n",
       "      <th>app</th>\n",
       "      <th>userProfileName</th>\n",
       "    </tr>\n",
       "  </thead>\n",
       "  <tbody>\n",
       "    <tr>\n",
       "      <th>0</th>\n",
       "      <td>191087</td>\n",
       "      <td>Circuito del Jarama</td>\n",
       "      <td>1</td>\n",
       "      <td>1</td>\n",
       "      <td>0</td>\n",
       "      <td>40.614612</td>\n",
       "      <td>-3.583085</td>\n",
       "      <td>9.0</td>\n",
       "      <td>0.0</td>\n",
       "      <td>-6.0</td>\n",
       "      <td>Guest</td>\n",
       "    </tr>\n",
       "    <tr>\n",
       "      <th>1</th>\n",
       "      <td>191088</td>\n",
       "      <td>Circuito del Jarama</td>\n",
       "      <td>1</td>\n",
       "      <td>1</td>\n",
       "      <td>101</td>\n",
       "      <td>40.614612</td>\n",
       "      <td>-3.583085</td>\n",
       "      <td>15.0</td>\n",
       "      <td>NaN</td>\n",
       "      <td>NaN</td>\n",
       "      <td>Guest</td>\n",
       "    </tr>\n",
       "    <tr>\n",
       "      <th>2</th>\n",
       "      <td>191089</td>\n",
       "      <td>Circuito del Jarama</td>\n",
       "      <td>1</td>\n",
       "      <td>1</td>\n",
       "      <td>201</td>\n",
       "      <td>40.614596</td>\n",
       "      <td>-3.583078</td>\n",
       "      <td>16.0</td>\n",
       "      <td>NaN</td>\n",
       "      <td>NaN</td>\n",
       "      <td>Guest</td>\n",
       "    </tr>\n",
       "    <tr>\n",
       "      <th>3</th>\n",
       "      <td>191090</td>\n",
       "      <td>Circuito del Jarama</td>\n",
       "      <td>1</td>\n",
       "      <td>1</td>\n",
       "      <td>304</td>\n",
       "      <td>40.614487</td>\n",
       "      <td>-3.583032</td>\n",
       "      <td>NaN</td>\n",
       "      <td>NaN</td>\n",
       "      <td>NaN</td>\n",
       "      <td>Guest</td>\n",
       "    </tr>\n",
       "    <tr>\n",
       "      <th>4</th>\n",
       "      <td>191091</td>\n",
       "      <td>Circuito del Jarama</td>\n",
       "      <td>1</td>\n",
       "      <td>1</td>\n",
       "      <td>402</td>\n",
       "      <td>40.614433</td>\n",
       "      <td>-3.583009</td>\n",
       "      <td>NaN</td>\n",
       "      <td>NaN</td>\n",
       "      <td>NaN</td>\n",
       "      <td>Guest</td>\n",
       "    </tr>\n",
       "    <tr>\n",
       "      <th>...</th>\n",
       "      <td>...</td>\n",
       "      <td>...</td>\n",
       "      <td>...</td>\n",
       "      <td>...</td>\n",
       "      <td>...</td>\n",
       "      <td>...</td>\n",
       "      <td>...</td>\n",
       "      <td>...</td>\n",
       "      <td>...</td>\n",
       "      <td>...</td>\n",
       "      <td>...</td>\n",
       "    </tr>\n",
       "    <tr>\n",
       "      <th>1149</th>\n",
       "      <td>192236</td>\n",
       "      <td>Circuito del Jarama</td>\n",
       "      <td>1</td>\n",
       "      <td>1</td>\n",
       "      <td>114901</td>\n",
       "      <td>40.614833</td>\n",
       "      <td>-3.583167</td>\n",
       "      <td>9.0</td>\n",
       "      <td>NaN</td>\n",
       "      <td>NaN</td>\n",
       "      <td>Guest</td>\n",
       "    </tr>\n",
       "    <tr>\n",
       "      <th>1150</th>\n",
       "      <td>192237</td>\n",
       "      <td>Circuito del Jarama</td>\n",
       "      <td>1</td>\n",
       "      <td>1</td>\n",
       "      <td>115002</td>\n",
       "      <td>40.614779</td>\n",
       "      <td>-3.583144</td>\n",
       "      <td>10.0</td>\n",
       "      <td>NaN</td>\n",
       "      <td>NaN</td>\n",
       "      <td>Guest</td>\n",
       "    </tr>\n",
       "    <tr>\n",
       "      <th>1151</th>\n",
       "      <td>192238</td>\n",
       "      <td>Circuito del Jarama</td>\n",
       "      <td>1</td>\n",
       "      <td>1</td>\n",
       "      <td>115101</td>\n",
       "      <td>40.614731</td>\n",
       "      <td>-3.583124</td>\n",
       "      <td>NaN</td>\n",
       "      <td>NaN</td>\n",
       "      <td>75.0</td>\n",
       "      <td>Guest</td>\n",
       "    </tr>\n",
       "    <tr>\n",
       "      <th>1152</th>\n",
       "      <td>192239</td>\n",
       "      <td>Circuito del Jarama</td>\n",
       "      <td>1</td>\n",
       "      <td>1</td>\n",
       "      <td>115202</td>\n",
       "      <td>40.614677</td>\n",
       "      <td>-3.583102</td>\n",
       "      <td>7.0</td>\n",
       "      <td>NaN</td>\n",
       "      <td>22.0</td>\n",
       "      <td>Guest</td>\n",
       "    </tr>\n",
       "    <tr>\n",
       "      <th>1153</th>\n",
       "      <td>192240</td>\n",
       "      <td>Circuito del Jarama</td>\n",
       "      <td>1</td>\n",
       "      <td>1</td>\n",
       "      <td>115237</td>\n",
       "      <td>40.614633</td>\n",
       "      <td>-3.583083</td>\n",
       "      <td>NaN</td>\n",
       "      <td>NaN</td>\n",
       "      <td>6.0</td>\n",
       "      <td>Guest</td>\n",
       "    </tr>\n",
       "  </tbody>\n",
       "</table>\n",
       "<p>1154 rows × 11 columns</p>\n",
       "</div>"
      ],
      "text/plain": [
       "       index          circuitname  racenumber  lapCounter      ts        lat  \\\n",
       "0     191087  Circuito del Jarama           1           1       0  40.614612   \n",
       "1     191088  Circuito del Jarama           1           1     101  40.614612   \n",
       "2     191089  Circuito del Jarama           1           1     201  40.614596   \n",
       "3     191090  Circuito del Jarama           1           1     304  40.614487   \n",
       "4     191091  Circuito del Jarama           1           1     402  40.614433   \n",
       "...      ...                  ...         ...         ...     ...        ...   \n",
       "1149  192236  Circuito del Jarama           1           1  114901  40.614833   \n",
       "1150  192237  Circuito del Jarama           1           1  115002  40.614779   \n",
       "1151  192238  Circuito del Jarama           1           1  115101  40.614731   \n",
       "1152  192239  Circuito del Jarama           1           1  115202  40.614677   \n",
       "1153  192240  Circuito del Jarama           1           1  115237  40.614633   \n",
       "\n",
       "           lon   swa  btd   app userProfileName  \n",
       "0    -3.583085   9.0  0.0  -6.0           Guest  \n",
       "1    -3.583085  15.0  NaN   NaN           Guest  \n",
       "2    -3.583078  16.0  NaN   NaN           Guest  \n",
       "3    -3.583032   NaN  NaN   NaN           Guest  \n",
       "4    -3.583009   NaN  NaN   NaN           Guest  \n",
       "...        ...   ...  ...   ...             ...  \n",
       "1149 -3.583167   9.0  NaN   NaN           Guest  \n",
       "1150 -3.583144  10.0  NaN   NaN           Guest  \n",
       "1151 -3.583124   NaN  NaN  75.0           Guest  \n",
       "1152 -3.583102   7.0  NaN  22.0           Guest  \n",
       "1153 -3.583083   NaN  NaN   6.0           Guest  \n",
       "\n",
       "[1154 rows x 11 columns]"
      ]
     },
     "execution_count": 207,
     "metadata": {},
     "output_type": "execute_result"
    }
   ],
   "source": [
    "circuit_seperation_df"
   ]
  },
  {
   "cell_type": "markdown",
   "id": "bd667cef",
   "metadata": {},
   "source": [
    "Lets check the throttle the brake torque and the steering wheel angle and lets see if three is a connection."
   ]
  },
  {
   "cell_type": "code",
   "execution_count": 208,
   "id": "c61fdc74",
   "metadata": {},
   "outputs": [
    {
     "data": {
      "image/png": "[encoded data removed]",
      "text/plain": [
       "<Figure size 432x288 with 1 Axes>"
      ]
     },
     "metadata": {
      "needs_background": "light"
     },
     "output_type": "display_data"
    }
   ],
   "source": [
    "#overview app(=throttle) data\n",
    "plt.clf()\n",
    "plt.plot(circuit_seperation_df.index, circuit_seperation_df['app'])\n",
    "plt.xlabel('trackpoints')\n",
    "plt.ylabel('trottle')\n",
    "plt.show()"
   ]
  },
  {
   "cell_type": "code",
   "execution_count": 209,
   "id": "cf68dab3",
   "metadata": {},
   "outputs": [
    {
     "data": {
      "image/png": "[encoded data removed]",
      "text/plain": [
       "<Figure size 432x288 with 1 Axes>"
      ]
     },
     "metadata": {
      "needs_background": "light"
     },
     "output_type": "display_data"
    }
   ],
   "source": [
    "#overview btd(=brake torque) data\n",
    "plt.clf()\n",
    "plt.plot(circuit_seperation_df.index, circuit_seperation_df['btd'])\n",
    "plt.xlabel('trackpoints')\n",
    "plt.ylabel('brake torque')\n",
    "plt.show()"
   ]
  },
  {
   "cell_type": "code",
   "execution_count": 210,
   "id": "d477cc60",
   "metadata": {},
   "outputs": [
    {
     "data": {
      "image/png": "[encoded data removed]",
      "text/plain": [
       "<Figure size 432x288 with 1 Axes>"
      ]
     },
     "metadata": {
      "needs_background": "light"
     },
     "output_type": "display_data"
    }
   ],
   "source": [
    "#overview app(=throttle) data\n",
    "plt.clf()\n",
    "plt.plot(circuit_seperation_df.index, circuit_seperation_df['swa'])\n",
    "plt.xlabel('trackpoints')\n",
    "plt.ylabel('steering wheel angle')\n",
    "plt.show()"
   ]
  },
  {
   "cell_type": "code",
   "execution_count": 211,
   "id": "a9be8e8b",
   "metadata": {},
   "outputs": [
    {
     "data": {
      "text/plain": [
       "50"
      ]
     },
     "execution_count": 211,
     "metadata": {},
     "output_type": "execute_result"
    }
   ],
   "source": [
    "circuit_seperation_df['swa'].isna().sum()"
   ]
  },
  {
   "cell_type": "code",
   "execution_count": 212,
   "id": "91c8258f",
   "metadata": {},
   "outputs": [
    {
     "data": {
      "text/plain": [
       "430"
      ]
     },
     "execution_count": 212,
     "metadata": {},
     "output_type": "execute_result"
    }
   ],
   "source": [
    "circuit_seperation_df['btd'].isna().sum()"
   ]
  },
  {
   "cell_type": "markdown",
   "id": "0c380270",
   "metadata": {},
   "source": [
    "As we may have noticed above already the break torque data and the steering wheel angle data is incomplete. So lets fill empty values using linear interpolation."
   ]
  },
  {
   "cell_type": "code",
   "execution_count": 213,
   "id": "12e7f918",
   "metadata": {},
   "outputs": [],
   "source": [
    "circuit_seperation_df['btd']=circuit_seperation_df['btd'].interpolate()"
   ]
  },
  {
   "cell_type": "code",
   "execution_count": 214,
   "id": "e293ba18",
   "metadata": {},
   "outputs": [],
   "source": [
    "circuit_seperation_df['swa']=circuit_seperation_df['swa'].interpolate()"
   ]
  },
  {
   "cell_type": "code",
   "execution_count": 215,
   "id": "88f4e0de",
   "metadata": {},
   "outputs": [
    {
     "data": {
      "text/plain": [
       "0"
      ]
     },
     "execution_count": 215,
     "metadata": {},
     "output_type": "execute_result"
    }
   ],
   "source": [
    "circuit_seperation_df['btd'].isna().sum()"
   ]
  },
  {
   "cell_type": "code",
   "execution_count": 216,
   "id": "e4f03a79",
   "metadata": {},
   "outputs": [
    {
     "data": {
      "text/plain": [
       "0"
      ]
     },
     "execution_count": 216,
     "metadata": {},
     "output_type": "execute_result"
    }
   ],
   "source": [
    "circuit_seperation_df['swa'].isna().sum()"
   ]
  },
  {
   "cell_type": "markdown",
   "id": "34305061",
   "metadata": {},
   "source": [
    "Obviously there is a connection between the sterring wheel angle data and the brake torque. Entering a curve the driver has to slow down.\n",
    "\n",
    "Lets find the extrema of the steering wheel angle to roughly estimate the center of the curves."
   ]
  },
  {
   "cell_type": "code",
   "execution_count": 217,
   "id": "2faf8cef",
   "metadata": {},
   "outputs": [
    {
     "data": {
      "image/png": "[encoded data removed]",
      "text/plain": [
       "<Figure size 432x288 with 1 Axes>"
      ]
     },
     "metadata": {
      "needs_background": "light"
     },
     "output_type": "display_data"
    }
   ],
   "source": [
    "circuit_seperation_df['swamax'] = circuit_seperation_df[['swa']].\\\n",
    "iloc[find_peaks(circuit_seperation_df.swa.values,threshold=1, height= 40, distance=50)[0]]['swa']\n",
    "\n",
    "circuit_seperation_df['swamin'] = circuit_seperation_df[['swa']].\\\n",
    "iloc[find_peaks(circuit_seperation_df.swa.values*-1,threshold=1, height= 40, distance=50)[0]]['swa']\n",
    "\n",
    "# Plot results\n",
    "plt.scatter(circuit_seperation_df.index, circuit_seperation_df['swamin'], c='r')\n",
    "plt.scatter(circuit_seperation_df.index, circuit_seperation_df['swamax'], c='r')\n",
    "plt.plot(circuit_seperation_df.index, circuit_seperation_df['swa'])\n",
    "plt.xlabel('Index', fontsize=20)\n",
    "plt.ylabel('Steering wheel angle', fontsize=20)\n",
    "plt.show()"
   ]
  },
  {
   "cell_type": "markdown",
   "id": "e4df41bd",
   "metadata": {},
   "source": [
    "Now lets add the brake points. We are looking for the first brake action before each steering wheel extrema."
   ]
  },
  {
   "cell_type": "code",
   "execution_count": 218,
   "id": "a88fe8db",
   "metadata": {},
   "outputs": [
    {
     "data": {
      "image/png": "[encoded data removed]",
      "text/plain": [
       "<Figure size 432x288 with 1 Axes>"
      ]
     },
     "metadata": {
      "needs_background": "light"
     },
     "output_type": "display_data"
    }
   ],
   "source": [
    "#overview btd(=brake torque) data\n",
    "plt.clf()\n",
    "plt.plot(circuit_seperation_df.index, circuit_seperation_df['btd'])\n",
    "plt.xlabel('trackpoints')\n",
    "plt.ylabel('brake torque')\n",
    "plt.show()"
   ]
  },
  {
   "cell_type": "markdown",
   "id": "82b61a72",
   "metadata": {},
   "source": [
    "The brake torque data is quite noise so lets apply a threshhold."
   ]
  },
  {
   "cell_type": "code",
   "execution_count": 219,
   "id": "281eef6c",
   "metadata": {},
   "outputs": [],
   "source": [
    "circuit_seperation_df['btd'] = circuit_seperation_df['btd'].clip(100)"
   ]
  },
  {
   "cell_type": "code",
   "execution_count": 220,
   "id": "733ee51e",
   "metadata": {},
   "outputs": [
    {
     "data": {
      "image/png": "[encoded data removed]",
      "text/plain": [
       "<Figure size 432x288 with 1 Axes>"
      ]
     },
     "metadata": {
      "needs_background": "light"
     },
     "output_type": "display_data"
    }
   ],
   "source": [
    "#overview btd(=brake torque) data\n",
    "plt.clf()\n",
    "plt.plot(circuit_seperation_df.index, circuit_seperation_df['btd'])\n",
    "plt.xlabel('trackpoints')\n",
    "plt.ylabel('brake torque')\n",
    "plt.show()"
   ]
  },
  {
   "cell_type": "markdown",
   "id": "4ff8ddba",
   "metadata": {},
   "source": [
    "That looks good. Now lets add the brake points for each steering wheel extrema."
   ]
  },
  {
   "cell_type": "code",
   "execution_count": 221,
   "id": "498215e4",
   "metadata": {},
   "outputs": [],
   "source": [
    "circuit_seperation_df.drop('index', axis=1, inplace=True)"
   ]
  },
  {
   "cell_type": "code",
   "execution_count": 222,
   "id": "f8ad2463",
   "metadata": {},
   "outputs": [
    {
     "name": "stdout",
     "output_type": "stream",
     "text": [
      "[13, 268, 326, 477, 545, 710, 766, 922]\n"
     ]
    }
   ],
   "source": [
    "# searching for steering wheel extrema?\n",
    "searchin_extr_sw = False\n",
    "braking_in_curve_center = False\n",
    "search_for_entry = False\n",
    "brake_entry_point_indexes = []\n",
    "\n",
    "def checkBraking(btd):\n",
    "    if btd > 100.0:\n",
    "        return True\n",
    "    else:\n",
    "        return False\n",
    "\n",
    "for index, trackpoint in circuit_seperation_df[::-1].iterrows():\n",
    "\n",
    "    # true if min / max\n",
    "    check_swamin = not np.isnan(trackpoint[\"swamin\"])\n",
    "    check_swamax = not np.isnan(trackpoint[\"swamax\"])\n",
    "    \n",
    "    if not searchin_extr_sw and (check_swamin or check_swamax):\n",
    "        # no brake point found!\n",
    "        searchin_extr_sw = True\n",
    "        \n",
    "    if searchin_extr_sw:\n",
    "        # searching for the next curve center from behind\n",
    "        if check_swamin:\n",
    "            searchin_extr_sw = False\n",
    "            braking_in_curve_center = checkBraking(trackpoint[\"btd\"])\n",
    "        if check_swamax:\n",
    "            searchin_extr_sw = False\n",
    "            braking_in_curve_center = checkBraking(trackpoint[\"btd\"])\n",
    "    else:\n",
    "        # searching for the next braking point after the curve center in the reversed trackpoint list\n",
    "        if braking_in_curve_center:\n",
    "            # braking occured in the center, so we search for the next trackpoint with no brake torque,\n",
    "            # to find the brake entry point of the curve  \n",
    "            if trackpoint[\"btd\"] <= 100.0:\n",
    "                brake_entry_point_indexes.insert(0, index)\n",
    "                searchin_extr_sw = True\n",
    "                search_for_entry = False\n",
    "\n",
    "        else:\n",
    "            # braking did not occur in the center\n",
    "            if search_for_entry:\n",
    "                #find the brake entry point of the curve\n",
    "                if trackpoint[\"btd\"] <= 100.0:\n",
    "                    brake_entry_point_indexes.insert(0, index + 1)\n",
    "                    searchin_extr_sw = True\n",
    "                    search_for_entry = False\n",
    "            else:\n",
    "                # we search for the next trackpoint with brake torque, \n",
    "                # to find the brake entry point of the curve after that\n",
    "                if trackpoint[\"btd\"] > 100.0:\n",
    "                    search_for_entry = True\n",
    "    \n",
    "print(brake_entry_point_indexes)"
   ]
  },
  {
   "cell_type": "code",
   "execution_count": 223,
   "id": "c70c565e",
   "metadata": {},
   "outputs": [],
   "source": [
    "# based on the list of indexes of brake points create another column for the dataframe\n",
    "circuit_seperation_df[\"brakepoints\"] =\\\n",
    "[circuit_seperation_df.index.values[i] in brake_entry_point_indexes for i in circuit_seperation_df.index.values]"
   ]
  },
  {
   "cell_type": "code",
   "execution_count": 224,
   "id": "2ddf3c2f",
   "metadata": {},
   "outputs": [],
   "source": [
    "#copy the true brake points to a new dataframe visualize them\n",
    "brakepoint_df = circuit_seperation_df[circuit_seperation_df[\"brakepoints\"] == True].copy()"
   ]
  },
  {
   "cell_type": "code",
   "execution_count": 225,
   "id": "0af916ce",
   "metadata": {},
   "outputs": [
    {
     "data": {
      "text/html": [
       "<div>\n",
       "<style scoped>\n",
       "    .dataframe tbody tr th:only-of-type {\n",
       "        vertical-align: middle;\n",
       "    }\n",
       "\n",
       "    .dataframe tbody tr th {\n",
       "        vertical-align: top;\n",
       "    }\n",
       "\n",
       "    .dataframe thead th {\n",
       "        text-align: right;\n",
       "    }\n",
       "</style>\n",
       "<table border=\"1\" class=\"dataframe\">\n",
       "  <thead>\n",
       "    <tr style=\"text-align: right;\">\n",
       "      <th></th>\n",
       "      <th>circuitname</th>\n",
       "      <th>racenumber</th>\n",
       "      <th>lapCounter</th>\n",
       "      <th>ts</th>\n",
       "      <th>lat</th>\n",
       "      <th>lon</th>\n",
       "      <th>swa</th>\n",
       "      <th>btd</th>\n",
       "      <th>app</th>\n",
       "      <th>userProfileName</th>\n",
       "      <th>swamax</th>\n",
       "      <th>swamin</th>\n",
       "      <th>brakepoints</th>\n",
       "    </tr>\n",
       "  </thead>\n",
       "  <tbody>\n",
       "    <tr>\n",
       "      <th>13</th>\n",
       "      <td>Circuito del Jarama</td>\n",
       "      <td>1</td>\n",
       "      <td>1</td>\n",
       "      <td>1302</td>\n",
       "      <td>40.613959</td>\n",
       "      <td>-3.582807</td>\n",
       "      <td>28.0</td>\n",
       "      <td>100.0</td>\n",
       "      <td>NaN</td>\n",
       "      <td>Guest</td>\n",
       "      <td>NaN</td>\n",
       "      <td>NaN</td>\n",
       "      <td>True</td>\n",
       "    </tr>\n",
       "    <tr>\n",
       "      <th>268</th>\n",
       "      <td>Circuito del Jarama</td>\n",
       "      <td>1</td>\n",
       "      <td>1</td>\n",
       "      <td>26802</td>\n",
       "      <td>40.615434</td>\n",
       "      <td>-3.584520</td>\n",
       "      <td>1006.0</td>\n",
       "      <td>101.0</td>\n",
       "      <td>21.0</td>\n",
       "      <td>Guest</td>\n",
       "      <td>NaN</td>\n",
       "      <td>NaN</td>\n",
       "      <td>True</td>\n",
       "    </tr>\n",
       "    <tr>\n",
       "      <th>326</th>\n",
       "      <td>Circuito del Jarama</td>\n",
       "      <td>1</td>\n",
       "      <td>1</td>\n",
       "      <td>32602</td>\n",
       "      <td>40.614707</td>\n",
       "      <td>-3.585311</td>\n",
       "      <td>-889.0</td>\n",
       "      <td>116.0</td>\n",
       "      <td>NaN</td>\n",
       "      <td>Guest</td>\n",
       "      <td>NaN</td>\n",
       "      <td>NaN</td>\n",
       "      <td>True</td>\n",
       "    </tr>\n",
       "    <tr>\n",
       "      <th>477</th>\n",
       "      <td>Circuito del Jarama</td>\n",
       "      <td>1</td>\n",
       "      <td>1</td>\n",
       "      <td>47701</td>\n",
       "      <td>40.617523</td>\n",
       "      <td>-3.588238</td>\n",
       "      <td>-46.0</td>\n",
       "      <td>101.6</td>\n",
       "      <td>NaN</td>\n",
       "      <td>Guest</td>\n",
       "      <td>NaN</td>\n",
       "      <td>NaN</td>\n",
       "      <td>True</td>\n",
       "    </tr>\n",
       "    <tr>\n",
       "      <th>545</th>\n",
       "      <td>Circuito del Jarama</td>\n",
       "      <td>1</td>\n",
       "      <td>1</td>\n",
       "      <td>54502</td>\n",
       "      <td>40.619042</td>\n",
       "      <td>-3.590630</td>\n",
       "      <td>201.0</td>\n",
       "      <td>112.0</td>\n",
       "      <td>2.0</td>\n",
       "      <td>Guest</td>\n",
       "      <td>NaN</td>\n",
       "      <td>NaN</td>\n",
       "      <td>True</td>\n",
       "    </tr>\n",
       "    <tr>\n",
       "      <th>710</th>\n",
       "      <td>Circuito del Jarama</td>\n",
       "      <td>1</td>\n",
       "      <td>1</td>\n",
       "      <td>71002</td>\n",
       "      <td>40.619107</td>\n",
       "      <td>-3.588952</td>\n",
       "      <td>21.0</td>\n",
       "      <td>131.0</td>\n",
       "      <td>NaN</td>\n",
       "      <td>Guest</td>\n",
       "      <td>NaN</td>\n",
       "      <td>NaN</td>\n",
       "      <td>True</td>\n",
       "    </tr>\n",
       "    <tr>\n",
       "      <th>766</th>\n",
       "      <td>Circuito del Jarama</td>\n",
       "      <td>1</td>\n",
       "      <td>1</td>\n",
       "      <td>76601</td>\n",
       "      <td>40.618014</td>\n",
       "      <td>-3.586932</td>\n",
       "      <td>65.0</td>\n",
       "      <td>647.0</td>\n",
       "      <td>1.0</td>\n",
       "      <td>Guest</td>\n",
       "      <td>NaN</td>\n",
       "      <td>NaN</td>\n",
       "      <td>True</td>\n",
       "    </tr>\n",
       "    <tr>\n",
       "      <th>922</th>\n",
       "      <td>Circuito del Jarama</td>\n",
       "      <td>1</td>\n",
       "      <td>1</td>\n",
       "      <td>92201</td>\n",
       "      <td>40.619621</td>\n",
       "      <td>-3.588219</td>\n",
       "      <td>-635.0</td>\n",
       "      <td>196.0</td>\n",
       "      <td>NaN</td>\n",
       "      <td>Guest</td>\n",
       "      <td>NaN</td>\n",
       "      <td>NaN</td>\n",
       "      <td>True</td>\n",
       "    </tr>\n",
       "  </tbody>\n",
       "</table>\n",
       "</div>"
      ],
      "text/plain": [
       "             circuitname  racenumber  lapCounter     ts        lat       lon  \\\n",
       "13   Circuito del Jarama           1           1   1302  40.613959 -3.582807   \n",
       "268  Circuito del Jarama           1           1  26802  40.615434 -3.584520   \n",
       "326  Circuito del Jarama           1           1  32602  40.614707 -3.585311   \n",
       "477  Circuito del Jarama           1           1  47701  40.617523 -3.588238   \n",
       "545  Circuito del Jarama           1           1  54502  40.619042 -3.590630   \n",
       "710  Circuito del Jarama           1           1  71002  40.619107 -3.588952   \n",
       "766  Circuito del Jarama           1           1  76601  40.618014 -3.586932   \n",
       "922  Circuito del Jarama           1           1  92201  40.619621 -3.588219   \n",
       "\n",
       "        swa    btd   app userProfileName  swamax  swamin  brakepoints  \n",
       "13     28.0  100.0   NaN           Guest     NaN     NaN         True  \n",
       "268  1006.0  101.0  21.0           Guest     NaN     NaN         True  \n",
       "326  -889.0  116.0   NaN           Guest     NaN     NaN         True  \n",
       "477   -46.0  101.6   NaN           Guest     NaN     NaN         True  \n",
       "545   201.0  112.0   2.0           Guest     NaN     NaN         True  \n",
       "710    21.0  131.0   NaN           Guest     NaN     NaN         True  \n",
       "766    65.0  647.0   1.0           Guest     NaN     NaN         True  \n",
       "922  -635.0  196.0   NaN           Guest     NaN     NaN         True  "
      ]
     },
     "execution_count": 225,
     "metadata": {},
     "output_type": "execute_result"
    }
   ],
   "source": [
    "brakepoint_df"
   ]
  },
  {
   "cell_type": "code",
   "execution_count": 226,
   "id": "c0fa69c4",
   "metadata": {},
   "outputs": [
    {
     "data": {
      "image/png": "[encoded data removed]",
      "text/plain": [
       "<Figure size 432x288 with 1 Axes>"
      ]
     },
     "metadata": {
      "needs_background": "light"
     },
     "output_type": "display_data"
    }
   ],
   "source": [
    "#overview btd(=brake torque) data\n",
    "plt.clf()\n",
    "plt.plot(circuit_seperation_df.index, circuit_seperation_df['btd'])\n",
    "brakepoints = plt.scatter(brakepoint_df.index, brakepoint_df['brakepoints'], c='y')\n",
    "plt.xlabel('trackpoints')\n",
    "plt.ylabel('brake torque')\n",
    "plt.legend([brakepoints],\n",
    "           ['brakepoints'],\n",
    "           scatterpoints=1,\n",
    "           loc='upper right',\n",
    "           ncol=1,\n",
    "           fontsize=8)\n",
    "plt.show()"
   ]
  },
  {
   "cell_type": "code",
   "execution_count": 227,
   "id": "f5606128",
   "metadata": {},
   "outputs": [],
   "source": [
    "#swap the boolean with the steering wheel value(swa) to show it together with the steering wheel angle on a plot\n",
    "brakepoint_df[\"brakepoints\"] = circuit_seperation_df.loc[circuit_seperation_df.index[list(brakepoint_df.index.values)]][\"swa\"]"
   ]
  },
  {
   "cell_type": "code",
   "execution_count": 228,
   "id": "003b29f0",
   "metadata": {},
   "outputs": [
    {
     "data": {
      "text/html": [
       "<div>\n",
       "<style scoped>\n",
       "    .dataframe tbody tr th:only-of-type {\n",
       "        vertical-align: middle;\n",
       "    }\n",
       "\n",
       "    .dataframe tbody tr th {\n",
       "        vertical-align: top;\n",
       "    }\n",
       "\n",
       "    .dataframe thead th {\n",
       "        text-align: right;\n",
       "    }\n",
       "</style>\n",
       "<table border=\"1\" class=\"dataframe\">\n",
       "  <thead>\n",
       "    <tr style=\"text-align: right;\">\n",
       "      <th></th>\n",
       "      <th>circuitname</th>\n",
       "      <th>racenumber</th>\n",
       "      <th>lapCounter</th>\n",
       "      <th>ts</th>\n",
       "      <th>lat</th>\n",
       "      <th>lon</th>\n",
       "      <th>swa</th>\n",
       "      <th>btd</th>\n",
       "      <th>app</th>\n",
       "      <th>userProfileName</th>\n",
       "      <th>swamax</th>\n",
       "      <th>swamin</th>\n",
       "      <th>brakepoints</th>\n",
       "    </tr>\n",
       "  </thead>\n",
       "  <tbody>\n",
       "    <tr>\n",
       "      <th>13</th>\n",
       "      <td>Circuito del Jarama</td>\n",
       "      <td>1</td>\n",
       "      <td>1</td>\n",
       "      <td>1302</td>\n",
       "      <td>40.613959</td>\n",
       "      <td>-3.582807</td>\n",
       "      <td>28.0</td>\n",
       "      <td>100.0</td>\n",
       "      <td>NaN</td>\n",
       "      <td>Guest</td>\n",
       "      <td>NaN</td>\n",
       "      <td>NaN</td>\n",
       "      <td>28.0</td>\n",
       "    </tr>\n",
       "    <tr>\n",
       "      <th>268</th>\n",
       "      <td>Circuito del Jarama</td>\n",
       "      <td>1</td>\n",
       "      <td>1</td>\n",
       "      <td>26802</td>\n",
       "      <td>40.615434</td>\n",
       "      <td>-3.584520</td>\n",
       "      <td>1006.0</td>\n",
       "      <td>101.0</td>\n",
       "      <td>21.0</td>\n",
       "      <td>Guest</td>\n",
       "      <td>NaN</td>\n",
       "      <td>NaN</td>\n",
       "      <td>1006.0</td>\n",
       "    </tr>\n",
       "    <tr>\n",
       "      <th>326</th>\n",
       "      <td>Circuito del Jarama</td>\n",
       "      <td>1</td>\n",
       "      <td>1</td>\n",
       "      <td>32602</td>\n",
       "      <td>40.614707</td>\n",
       "      <td>-3.585311</td>\n",
       "      <td>-889.0</td>\n",
       "      <td>116.0</td>\n",
       "      <td>NaN</td>\n",
       "      <td>Guest</td>\n",
       "      <td>NaN</td>\n",
       "      <td>NaN</td>\n",
       "      <td>-889.0</td>\n",
       "    </tr>\n",
       "    <tr>\n",
       "      <th>477</th>\n",
       "      <td>Circuito del Jarama</td>\n",
       "      <td>1</td>\n",
       "      <td>1</td>\n",
       "      <td>47701</td>\n",
       "      <td>40.617523</td>\n",
       "      <td>-3.588238</td>\n",
       "      <td>-46.0</td>\n",
       "      <td>101.6</td>\n",
       "      <td>NaN</td>\n",
       "      <td>Guest</td>\n",
       "      <td>NaN</td>\n",
       "      <td>NaN</td>\n",
       "      <td>-46.0</td>\n",
       "    </tr>\n",
       "    <tr>\n",
       "      <th>545</th>\n",
       "      <td>Circuito del Jarama</td>\n",
       "      <td>1</td>\n",
       "      <td>1</td>\n",
       "      <td>54502</td>\n",
       "      <td>40.619042</td>\n",
       "      <td>-3.590630</td>\n",
       "      <td>201.0</td>\n",
       "      <td>112.0</td>\n",
       "      <td>2.0</td>\n",
       "      <td>Guest</td>\n",
       "      <td>NaN</td>\n",
       "      <td>NaN</td>\n",
       "      <td>201.0</td>\n",
       "    </tr>\n",
       "    <tr>\n",
       "      <th>710</th>\n",
       "      <td>Circuito del Jarama</td>\n",
       "      <td>1</td>\n",
       "      <td>1</td>\n",
       "      <td>71002</td>\n",
       "      <td>40.619107</td>\n",
       "      <td>-3.588952</td>\n",
       "      <td>21.0</td>\n",
       "      <td>131.0</td>\n",
       "      <td>NaN</td>\n",
       "      <td>Guest</td>\n",
       "      <td>NaN</td>\n",
       "      <td>NaN</td>\n",
       "      <td>21.0</td>\n",
       "    </tr>\n",
       "    <tr>\n",
       "      <th>766</th>\n",
       "      <td>Circuito del Jarama</td>\n",
       "      <td>1</td>\n",
       "      <td>1</td>\n",
       "      <td>76601</td>\n",
       "      <td>40.618014</td>\n",
       "      <td>-3.586932</td>\n",
       "      <td>65.0</td>\n",
       "      <td>647.0</td>\n",
       "      <td>1.0</td>\n",
       "      <td>Guest</td>\n",
       "      <td>NaN</td>\n",
       "      <td>NaN</td>\n",
       "      <td>65.0</td>\n",
       "    </tr>\n",
       "    <tr>\n",
       "      <th>922</th>\n",
       "      <td>Circuito del Jarama</td>\n",
       "      <td>1</td>\n",
       "      <td>1</td>\n",
       "      <td>92201</td>\n",
       "      <td>40.619621</td>\n",
       "      <td>-3.588219</td>\n",
       "      <td>-635.0</td>\n",
       "      <td>196.0</td>\n",
       "      <td>NaN</td>\n",
       "      <td>Guest</td>\n",
       "      <td>NaN</td>\n",
       "      <td>NaN</td>\n",
       "      <td>-635.0</td>\n",
       "    </tr>\n",
       "  </tbody>\n",
       "</table>\n",
       "</div>"
      ],
      "text/plain": [
       "             circuitname  racenumber  lapCounter     ts        lat       lon  \\\n",
       "13   Circuito del Jarama           1           1   1302  40.613959 -3.582807   \n",
       "268  Circuito del Jarama           1           1  26802  40.615434 -3.584520   \n",
       "326  Circuito del Jarama           1           1  32602  40.614707 -3.585311   \n",
       "477  Circuito del Jarama           1           1  47701  40.617523 -3.588238   \n",
       "545  Circuito del Jarama           1           1  54502  40.619042 -3.590630   \n",
       "710  Circuito del Jarama           1           1  71002  40.619107 -3.588952   \n",
       "766  Circuito del Jarama           1           1  76601  40.618014 -3.586932   \n",
       "922  Circuito del Jarama           1           1  92201  40.619621 -3.588219   \n",
       "\n",
       "        swa    btd   app userProfileName  swamax  swamin  brakepoints  \n",
       "13     28.0  100.0   NaN           Guest     NaN     NaN         28.0  \n",
       "268  1006.0  101.0  21.0           Guest     NaN     NaN       1006.0  \n",
       "326  -889.0  116.0   NaN           Guest     NaN     NaN       -889.0  \n",
       "477   -46.0  101.6   NaN           Guest     NaN     NaN        -46.0  \n",
       "545   201.0  112.0   2.0           Guest     NaN     NaN        201.0  \n",
       "710    21.0  131.0   NaN           Guest     NaN     NaN         21.0  \n",
       "766    65.0  647.0   1.0           Guest     NaN     NaN         65.0  \n",
       "922  -635.0  196.0   NaN           Guest     NaN     NaN       -635.0  "
      ]
     },
     "execution_count": 228,
     "metadata": {},
     "output_type": "execute_result"
    }
   ],
   "source": [
    "brakepoint_df"
   ]
  },
  {
   "cell_type": "code",
   "execution_count": 262,
   "id": "8102d36c",
   "metadata": {},
   "outputs": [
    {
     "data": {
      "image/png": "[encoded data removed]",
      "text/plain": [
       "<Figure size 432x288 with 1 Axes>"
      ]
     },
     "metadata": {
      "needs_background": "light"
     },
     "output_type": "display_data"
    }
   ],
   "source": [
    "# Plot results: yellow dots are breakpoints\n",
    "mins = plt.scatter(circuit_seperation_df.index, circuit_seperation_df['swamin'], c='r')\n",
    "maxs = plt.scatter(circuit_seperation_df.index, circuit_seperation_df['swamax'], c='r')\n",
    "brakepoints = plt.scatter(brakepoint_df.index, brakepoint_df['brakepoints'], c='y')\n",
    "plt.plot(circuit_seperation_df.index, circuit_seperation_df['swa'])\n",
    "plt.xlabel('Index', fontsize=20)\n",
    "plt.ylabel('Steering wheel angle', fontsize=20)\n",
    "\n",
    "plt.legend((mins, brakepoints),\n",
    "           ('Steering Wheel Extrema', 'brakepoints'),\n",
    "           scatterpoints=1,\n",
    "           loc='lower left',\n",
    "           ncol=3,\n",
    "           fontsize=8)\n",
    "\n",
    "plt.show()"
   ]
  },
  {
   "cell_type": "markdown",
   "id": "45a683f1",
   "metadata": {},
   "source": [
    "In this example in 8 out of 17 the driver braked before a corner.\n",
    "\n",
    "We now can identify curve centers and their brakepoints.\n",
    "\n",
    "Remaining are:\n",
    "- straight parts\n",
    "- Curve entrances\n",
    "- Curve exit\n",
    "- Throttle 100% after curve exit\n",
    "\n",
    "Curve entrances and exits we simply define using the steering wheel angle. Everything above 15° belongs to a curve.\n",
    "\n",
    "The remaining parts will be defined as straight parts.\n",
    "\n",
    "The throttle data is given as the column name \"app\".\n"
   ]
  },
  {
   "cell_type": "code",
   "execution_count": 244,
   "id": "06f4fc42",
   "metadata": {},
   "outputs": [],
   "source": [
    "#introduce new column \"curve\"\n",
    "circuit_seperation_df['curve'] = circuit_seperation_df.swa.apply(lambda x: False if 15.0 >= x/10 >= -15.0 else True)"
   ]
  },
  {
   "cell_type": "code",
   "execution_count": 246,
   "id": "972982a7",
   "metadata": {},
   "outputs": [
    {
     "data": {
      "text/plain": [
       "682"
      ]
     },
     "execution_count": 246,
     "metadata": {},
     "output_type": "execute_result"
    }
   ],
   "source": [
    "circuit_seperation_df[circuit_seperation_df[\"curve\"]==True].shape[0]"
   ]
  },
  {
   "cell_type": "markdown",
   "id": "d6be3945",
   "metadata": {},
   "source": [
    "Roughly 862 Trackpoints out of 1200 belong to a curve."
   ]
  },
  {
   "cell_type": "markdown",
   "id": "35c8a932",
   "metadata": {},
   "source": [
    "The only information left now is when the throttle is pushed to 100% after each curve. \n",
    "\n",
    "The throttle diagram above shows that the data is a little bit noisy so we will define any value above \n",
    "100 as full throttle."
   ]
  },
  {
   "cell_type": "code",
   "execution_count": 259,
   "id": "91073791",
   "metadata": {},
   "outputs": [
    {
     "name": "stdout",
     "output_type": "stream",
     "text": [
      "[1028, 1002, 958, 927, 812, 748, 690, 598, 516, 403, 281, 186, 84, 78]\n"
     ]
    }
   ],
   "source": [
    "# searching for steering wheel extrema?\n",
    "searchin_extr_sw = False\n",
    "full_throttle_points_indexes = []\n",
    "\n",
    "for index, trackpoint in circuit_seperation_df.iterrows():\n",
    "\n",
    "        # true if min / max\n",
    "    check_swamin = not np.isnan(trackpoint[\"swamin\"])\n",
    "    check_swamax = not np.isnan(trackpoint[\"swamax\"])\n",
    "    \n",
    "    if not searchin_extr_sw and (check_swamin or check_swamax):\n",
    "        # no full throttle point found!\n",
    "        searchin_extr_sw = True\n",
    "        \n",
    "    if searchin_extr_sw:\n",
    "        # searching for the next curve center from behind\n",
    "        if check_swamin:\n",
    "            searchin_extr_sw = False\n",
    "        if check_swamax:\n",
    "            searchin_extr_sw = False\n",
    "    else:\n",
    "        # searching for the next full throttle point after the curve center in the trackpoint list\n",
    "        if trackpoint[\"app\"] >= 100.0:\n",
    "            full_throttle_points_indexes.insert(0, index - 1)\n",
    "            searchin_extr_sw = True\n",
    "    \n",
    "print(full_throttle_points_indexes)"
   ]
  },
  {
   "cell_type": "code",
   "execution_count": 260,
   "id": "c1717ee0",
   "metadata": {},
   "outputs": [],
   "source": [
    "# based on the list of indexes of full throttle points after curves create another column for the dataframe\n",
    "circuit_seperation_df[\"full_throttle\"] =\\\n",
    "[circuit_seperation_df.index.values[i] in full_throttle_points_indexes for i in circuit_seperation_df.index.values]"
   ]
  },
  {
   "cell_type": "code",
   "execution_count": 261,
   "id": "e3f953cf",
   "metadata": {},
   "outputs": [
    {
     "data": {
      "text/html": [
       "<div>\n",
       "<style scoped>\n",
       "    .dataframe tbody tr th:only-of-type {\n",
       "        vertical-align: middle;\n",
       "    }\n",
       "\n",
       "    .dataframe tbody tr th {\n",
       "        vertical-align: top;\n",
       "    }\n",
       "\n",
       "    .dataframe thead th {\n",
       "        text-align: right;\n",
       "    }\n",
       "</style>\n",
       "<table border=\"1\" class=\"dataframe\">\n",
       "  <thead>\n",
       "    <tr style=\"text-align: right;\">\n",
       "      <th></th>\n",
       "      <th>circuitname</th>\n",
       "      <th>racenumber</th>\n",
       "      <th>lapCounter</th>\n",
       "      <th>ts</th>\n",
       "      <th>lat</th>\n",
       "      <th>lon</th>\n",
       "      <th>swa</th>\n",
       "      <th>btd</th>\n",
       "      <th>app</th>\n",
       "      <th>userProfileName</th>\n",
       "      <th>swamax</th>\n",
       "      <th>swamin</th>\n",
       "      <th>brakepoints</th>\n",
       "      <th>curve</th>\n",
       "      <th>full_throttle</th>\n",
       "    </tr>\n",
       "  </thead>\n",
       "  <tbody>\n",
       "    <tr>\n",
       "      <th>0</th>\n",
       "      <td>Circuito del Jarama</td>\n",
       "      <td>1</td>\n",
       "      <td>1</td>\n",
       "      <td>0</td>\n",
       "      <td>40.614612</td>\n",
       "      <td>-3.583085</td>\n",
       "      <td>9.00</td>\n",
       "      <td>100.0</td>\n",
       "      <td>-6.0</td>\n",
       "      <td>Guest</td>\n",
       "      <td>NaN</td>\n",
       "      <td>NaN</td>\n",
       "      <td>False</td>\n",
       "      <td>False</td>\n",
       "      <td>False</td>\n",
       "    </tr>\n",
       "    <tr>\n",
       "      <th>1</th>\n",
       "      <td>Circuito del Jarama</td>\n",
       "      <td>1</td>\n",
       "      <td>1</td>\n",
       "      <td>101</td>\n",
       "      <td>40.614612</td>\n",
       "      <td>-3.583085</td>\n",
       "      <td>15.00</td>\n",
       "      <td>100.0</td>\n",
       "      <td>NaN</td>\n",
       "      <td>Guest</td>\n",
       "      <td>NaN</td>\n",
       "      <td>NaN</td>\n",
       "      <td>False</td>\n",
       "      <td>False</td>\n",
       "      <td>False</td>\n",
       "    </tr>\n",
       "    <tr>\n",
       "      <th>2</th>\n",
       "      <td>Circuito del Jarama</td>\n",
       "      <td>1</td>\n",
       "      <td>1</td>\n",
       "      <td>201</td>\n",
       "      <td>40.614596</td>\n",
       "      <td>-3.583078</td>\n",
       "      <td>16.00</td>\n",
       "      <td>100.0</td>\n",
       "      <td>NaN</td>\n",
       "      <td>Guest</td>\n",
       "      <td>NaN</td>\n",
       "      <td>NaN</td>\n",
       "      <td>False</td>\n",
       "      <td>False</td>\n",
       "      <td>False</td>\n",
       "    </tr>\n",
       "    <tr>\n",
       "      <th>3</th>\n",
       "      <td>Circuito del Jarama</td>\n",
       "      <td>1</td>\n",
       "      <td>1</td>\n",
       "      <td>304</td>\n",
       "      <td>40.614487</td>\n",
       "      <td>-3.583032</td>\n",
       "      <td>15.75</td>\n",
       "      <td>100.0</td>\n",
       "      <td>NaN</td>\n",
       "      <td>Guest</td>\n",
       "      <td>NaN</td>\n",
       "      <td>NaN</td>\n",
       "      <td>False</td>\n",
       "      <td>False</td>\n",
       "      <td>False</td>\n",
       "    </tr>\n",
       "    <tr>\n",
       "      <th>4</th>\n",
       "      <td>Circuito del Jarama</td>\n",
       "      <td>1</td>\n",
       "      <td>1</td>\n",
       "      <td>402</td>\n",
       "      <td>40.614433</td>\n",
       "      <td>-3.583009</td>\n",
       "      <td>15.50</td>\n",
       "      <td>100.0</td>\n",
       "      <td>NaN</td>\n",
       "      <td>Guest</td>\n",
       "      <td>NaN</td>\n",
       "      <td>NaN</td>\n",
       "      <td>False</td>\n",
       "      <td>False</td>\n",
       "      <td>False</td>\n",
       "    </tr>\n",
       "    <tr>\n",
       "      <th>...</th>\n",
       "      <td>...</td>\n",
       "      <td>...</td>\n",
       "      <td>...</td>\n",
       "      <td>...</td>\n",
       "      <td>...</td>\n",
       "      <td>...</td>\n",
       "      <td>...</td>\n",
       "      <td>...</td>\n",
       "      <td>...</td>\n",
       "      <td>...</td>\n",
       "      <td>...</td>\n",
       "      <td>...</td>\n",
       "      <td>...</td>\n",
       "      <td>...</td>\n",
       "      <td>...</td>\n",
       "    </tr>\n",
       "    <tr>\n",
       "      <th>1149</th>\n",
       "      <td>Circuito del Jarama</td>\n",
       "      <td>1</td>\n",
       "      <td>1</td>\n",
       "      <td>114901</td>\n",
       "      <td>40.614833</td>\n",
       "      <td>-3.583167</td>\n",
       "      <td>9.00</td>\n",
       "      <td>100.0</td>\n",
       "      <td>NaN</td>\n",
       "      <td>Guest</td>\n",
       "      <td>NaN</td>\n",
       "      <td>NaN</td>\n",
       "      <td>False</td>\n",
       "      <td>False</td>\n",
       "      <td>False</td>\n",
       "    </tr>\n",
       "    <tr>\n",
       "      <th>1150</th>\n",
       "      <td>Circuito del Jarama</td>\n",
       "      <td>1</td>\n",
       "      <td>1</td>\n",
       "      <td>115002</td>\n",
       "      <td>40.614779</td>\n",
       "      <td>-3.583144</td>\n",
       "      <td>10.00</td>\n",
       "      <td>100.0</td>\n",
       "      <td>NaN</td>\n",
       "      <td>Guest</td>\n",
       "      <td>NaN</td>\n",
       "      <td>NaN</td>\n",
       "      <td>False</td>\n",
       "      <td>False</td>\n",
       "      <td>False</td>\n",
       "    </tr>\n",
       "    <tr>\n",
       "      <th>1151</th>\n",
       "      <td>Circuito del Jarama</td>\n",
       "      <td>1</td>\n",
       "      <td>1</td>\n",
       "      <td>115101</td>\n",
       "      <td>40.614731</td>\n",
       "      <td>-3.583124</td>\n",
       "      <td>8.50</td>\n",
       "      <td>100.0</td>\n",
       "      <td>75.0</td>\n",
       "      <td>Guest</td>\n",
       "      <td>NaN</td>\n",
       "      <td>NaN</td>\n",
       "      <td>False</td>\n",
       "      <td>False</td>\n",
       "      <td>False</td>\n",
       "    </tr>\n",
       "    <tr>\n",
       "      <th>1152</th>\n",
       "      <td>Circuito del Jarama</td>\n",
       "      <td>1</td>\n",
       "      <td>1</td>\n",
       "      <td>115202</td>\n",
       "      <td>40.614677</td>\n",
       "      <td>-3.583102</td>\n",
       "      <td>7.00</td>\n",
       "      <td>100.0</td>\n",
       "      <td>22.0</td>\n",
       "      <td>Guest</td>\n",
       "      <td>NaN</td>\n",
       "      <td>NaN</td>\n",
       "      <td>False</td>\n",
       "      <td>False</td>\n",
       "      <td>False</td>\n",
       "    </tr>\n",
       "    <tr>\n",
       "      <th>1153</th>\n",
       "      <td>Circuito del Jarama</td>\n",
       "      <td>1</td>\n",
       "      <td>1</td>\n",
       "      <td>115237</td>\n",
       "      <td>40.614633</td>\n",
       "      <td>-3.583083</td>\n",
       "      <td>7.00</td>\n",
       "      <td>100.0</td>\n",
       "      <td>6.0</td>\n",
       "      <td>Guest</td>\n",
       "      <td>NaN</td>\n",
       "      <td>NaN</td>\n",
       "      <td>False</td>\n",
       "      <td>False</td>\n",
       "      <td>False</td>\n",
       "    </tr>\n",
       "  </tbody>\n",
       "</table>\n",
       "<p>1154 rows × 15 columns</p>\n",
       "</div>"
      ],
      "text/plain": [
       "              circuitname  racenumber  lapCounter      ts        lat  \\\n",
       "0     Circuito del Jarama           1           1       0  40.614612   \n",
       "1     Circuito del Jarama           1           1     101  40.614612   \n",
       "2     Circuito del Jarama           1           1     201  40.614596   \n",
       "3     Circuito del Jarama           1           1     304  40.614487   \n",
       "4     Circuito del Jarama           1           1     402  40.614433   \n",
       "...                   ...         ...         ...     ...        ...   \n",
       "1149  Circuito del Jarama           1           1  114901  40.614833   \n",
       "1150  Circuito del Jarama           1           1  115002  40.614779   \n",
       "1151  Circuito del Jarama           1           1  115101  40.614731   \n",
       "1152  Circuito del Jarama           1           1  115202  40.614677   \n",
       "1153  Circuito del Jarama           1           1  115237  40.614633   \n",
       "\n",
       "           lon    swa    btd   app userProfileName  swamax  swamin  \\\n",
       "0    -3.583085   9.00  100.0  -6.0           Guest     NaN     NaN   \n",
       "1    -3.583085  15.00  100.0   NaN           Guest     NaN     NaN   \n",
       "2    -3.583078  16.00  100.0   NaN           Guest     NaN     NaN   \n",
       "3    -3.583032  15.75  100.0   NaN           Guest     NaN     NaN   \n",
       "4    -3.583009  15.50  100.0   NaN           Guest     NaN     NaN   \n",
       "...        ...    ...    ...   ...             ...     ...     ...   \n",
       "1149 -3.583167   9.00  100.0   NaN           Guest     NaN     NaN   \n",
       "1150 -3.583144  10.00  100.0   NaN           Guest     NaN     NaN   \n",
       "1151 -3.583124   8.50  100.0  75.0           Guest     NaN     NaN   \n",
       "1152 -3.583102   7.00  100.0  22.0           Guest     NaN     NaN   \n",
       "1153 -3.583083   7.00  100.0   6.0           Guest     NaN     NaN   \n",
       "\n",
       "      brakepoints  curve  full_throttle  \n",
       "0           False  False          False  \n",
       "1           False  False          False  \n",
       "2           False  False          False  \n",
       "3           False  False          False  \n",
       "4           False  False          False  \n",
       "...           ...    ...            ...  \n",
       "1149        False  False          False  \n",
       "1150        False  False          False  \n",
       "1151        False  False          False  \n",
       "1152        False  False          False  \n",
       "1153        False  False          False  \n",
       "\n",
       "[1154 rows x 15 columns]"
      ]
     },
     "execution_count": 261,
     "metadata": {},
     "output_type": "execute_result"
    }
   ],
   "source": [
    "circuit_seperation_df"
   ]
  },
  {
   "cell_type": "code",
   "execution_count": 268,
   "id": "23329348",
   "metadata": {},
   "outputs": [],
   "source": [
    "#copy the true brake points to a new dataframe visualize them\n",
    "full_throttle_df = circuit_seperation_df[circuit_seperation_df[\"full_throttle\"] == True].copy()"
   ]
  },
  {
   "cell_type": "code",
   "execution_count": 271,
   "id": "fa7b3d23",
   "metadata": {},
   "outputs": [],
   "source": [
    "#swap the boolean with the steering wheel value(swa) to show it together with the steering wheel angle on a plot\n",
    "full_throttle_df[\"full_throttle\"] = circuit_seperation_df.loc[circuit_seperation_df.index[list(full_throttle_df.index.values)]][\"swa\"]"
   ]
  },
  {
   "cell_type": "code",
   "execution_count": 272,
   "id": "366babf4",
   "metadata": {},
   "outputs": [
    {
     "data": {
      "image/png": "[encoded data removed]",
      "text/plain": [
       "<Figure size 432x288 with 1 Axes>"
      ]
     },
     "metadata": {
      "needs_background": "light"
     },
     "output_type": "display_data"
    }
   ],
   "source": [
    "# Plot results: blue dots are full_throttle points\n",
    "mins = plt.scatter(circuit_seperation_df.index, circuit_seperation_df['swamin'], c='r')\n",
    "maxs = plt.scatter(circuit_seperation_df.index, circuit_seperation_df['swamax'], c='r')\n",
    "brakepoints = plt.scatter(brakepoint_df.index, brakepoint_df['brakepoints'], c='y')\n",
    "full_throttle = plt.scatter(full_throttle_df.index, full_throttle_df['full_throttle'], c='b')\n",
    "plt.plot(circuit_seperation_df.index, circuit_seperation_df['swa'])\n",
    "plt.xlabel('Index', fontsize=20)\n",
    "plt.ylabel('Steering wheel angle', fontsize=20)\n",
    "\n",
    "plt.legend((mins, full_throttle,brakepoints),\n",
    "           ('Steering Wheel Extrema','full_throttle', 'brakepoints'),\n",
    "           scatterpoints=1,\n",
    "           loc='lower left',\n",
    "           ncol=3,\n",
    "           fontsize=8)\n",
    "\n",
    "plt.show()"
   ]
  },
  {
   "cell_type": "markdown",
   "id": "4d71b20d",
   "metadata": {},
   "source": [
    "One clearly can see that most of the times in the center of the curve the driver fully starts to accelerate again.\n",
    "\n",
    "We have all the data we need now to form some nice track plots of\n",
    "\n",
    "- straight parts\n",
    "- Curve entrances\n",
    "- Center of curves\n",
    "- Curve exit\n",
    "- Braking points\n",
    "- Throttle 100% after curve exit"
   ]
  },
  {
   "cell_type": "code",
   "execution_count": null,
   "id": "fd2e6adf",
   "metadata": {},
   "outputs": [],
   "source": []
  }
 ],
 "metadata": {
  "kernelspec": {
   "display_name": "Python 3",
   "language": "python",
   "name": "python3"
  },
  "language_info": {
   "codemirror_mode": {
    "name": "ipython",
    "version": 3
   },
   "file_extension": ".py",
   "mimetype": "text/x-python",
   "name": "python",
   "nbconvert_exporter": "python",
   "pygments_lexer": "ipython3",
   "version": "3.8.8"
  }
 },
 "nbformat": 4,
 "nbformat_minor": 5
}
