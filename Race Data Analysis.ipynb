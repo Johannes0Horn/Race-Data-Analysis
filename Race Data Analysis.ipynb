{
 "cells": [
  {
   "cell_type": "markdown",
   "id": "d2b600c5",
   "metadata": {},
   "source": [
    "# Race Data Analysis\n",
    "\n",
    "Goal of this notebook is to get some insight into some Race Data. Its from four different race tracks of different drivers splitted into 42 xml files with a total of 283mB. The Data itself is confidential, so only small snippets of the raw data will be shown.\n",
    "\n",
    "## 1.) Data Gathering\n",
    "\n",
    "From the Folderstructure we know there are four different tracks each with a different number of races. One Race per File.\n",
    "Each file contains Trackpoints for several laps. The first lap of each track is a warmup round without actual data. Per Trackpoint the following data is provided: \n",
    "\n",
    "* GPS coordinates\n",
    "* Heading\n",
    "* Distance driven\n",
    "* altitude above sea level\n",
    "* several sensor data"
   ]
  },
  {
   "cell_type": "code",
   "execution_count": 133,
   "id": "408f20b4",
   "metadata": {},
   "outputs": [],
   "source": [
    "import matplotlib.pyplot as plt\n",
    "import numpy as np\n",
    "import operator\n",
    "import glob\n",
    "import xml.etree.ElementTree as ET\n",
    "import pandas as pd\n",
    "import copy\n",
    "import seaborn as sns"
   ]
  },
  {
   "cell_type": "markdown",
   "id": "7778c3b8",
   "metadata": {},
   "source": [
    "Form Panda Dataframe from given XML files\n"
   ]
  },
  {
   "cell_type": "code",
   "execution_count": 17,
   "id": "8123b114",
   "metadata": {},
   "outputs": [
    {
     "name": "stdout",
     "output_type": "stream",
     "text": [
      "currentFile ./GPX Files\\Circuit Ricardo Tormo unofficial\\Race_20171204T093133.gpx\n",
      "total datapoints: 5638\n",
      "currentFile ./GPX Files\\Circuit Ricardo Tormo unofficial\\Race_20171205T074157.gpx\n",
      "total datapoints: 33191\n",
      "currentFile ./GPX Files\\Circuit Ricardo Tormo unofficial\\Race_20171205T110519.gpx\n",
      "total datapoints: 58810\n",
      "currentFile ./GPX Files\\Circuit Ricardo Tormo unofficial\\Race_20171205T131202.gpx\n",
      "total datapoints: 84760\n",
      "currentFile ./GPX Files\\Circuit Ricardo Tormo unofficial\\Race_20171207T130651.gpx\n",
      "total datapoints: 108741\n",
      "currentFile ./GPX Files\\Circuit Ricardo Tormo unofficial\\Race_20171208T081031.gpx\n",
      "total datapoints: 119775\n",
      "currentFile ./GPX Files\\Circuit Ricardo Tormo unofficial\\Race_20171209T125620.gpx\n",
      "total datapoints: 132088\n",
      "currentFile ./GPX Files\\Circuit Ricardo Tormo unofficial\\Race_20171209T144140.gpx\n",
      "total datapoints: 135814\n",
      "currentFile ./GPX Files\\Circuit Ricardo Tormo unofficial\\Race_20171209T153538.gpx\n",
      "total datapoints: 137882\n",
      "currentFile ./GPX Files\\Circuit Ricardo Tormo unofficial\\Race_20171209T154549.gpx\n",
      "total datapoints: 139492\n",
      "currentFile ./GPX Files\\Circuit Ricardo Tormo unofficial\\Race_20171210T094031.gpx\n",
      "total datapoints: 141209\n",
      "currentFile ./GPX Files\\Circuit Ricardo Tormo unofficial\\Race_20171210T111310.gpx\n",
      "total datapoints: 166590\n",
      "currentFile ./GPX Files\\Circuit Ricardo Tormo unofficial\\Race_20171210T140631.gpx\n",
      "total datapoints: 168239\n",
      "currentFile ./GPX Files\\Circuit Ricardo Tormo unofficial\\Race_20171211T103702.gpx\n",
      "total datapoints: 172900\n",
      "currentFile ./GPX Files\\Circuit Ricardo Tormo unofficial\\Race_20171211T112754.gpx\n",
      "total datapoints: 191087\n",
      "currentFile ./GPX Files\\Circuito del Jarama\\Race_0_20190717125112.gpx\n",
      "total datapoints: 192241\n",
      "currentFile ./GPX Files\\Circuito del Jarama\\Race_0_20190718133324.gpx\n",
      "total datapoints: 193531\n",
      "currentFile ./GPX Files\\Circuito del Jarama\\Race_1_20190718135029.gpx\n",
      "total datapoints: 197178\n",
      "currentFile ./GPX Files\\Idiada Handling\\Race_20190518T134615.gpx\n",
      "total datapoints: 200469\n",
      "currentFile ./GPX Files\\Idiada Handling\\Race_20190518T140952.gpx\n",
      "total datapoints: 205190\n",
      "currentFile ./GPX Files\\Idiada Handling\\Race_20190518T160906.gpx\n",
      "total datapoints: 209124\n",
      "currentFile ./GPX Files\\Idiada Handling\\Race_20190518T163947.gpx\n",
      "total datapoints: 212279\n",
      "currentFile ./GPX Files\\Idiada Handling\\Race_20190518T165840.gpx\n",
      "total datapoints: 214448\n",
      "currentFile ./GPX Files\\Sachsenring\\Race_0_20190808125506.gpx\n",
      "total datapoints: 215649\n",
      "currentFile ./GPX Files\\Sachsenring\\Race_0_20190809100819.gpx\n",
      "total datapoints: 217729\n",
      "currentFile ./GPX Files\\Sachsenring\\Race_0_20190809100958.gpx\n",
      "total datapoints: 219032\n",
      "currentFile ./GPX Files\\Sachsenring\\Race_0_20190809103014.gpx\n",
      "total datapoints: 220288\n",
      "currentFile ./GPX Files\\Sachsenring\\Race_0_20190809104936.gpx\n",
      "total datapoints: 221527\n",
      "currentFile ./GPX Files\\Sachsenring\\Race_0_20190809110702.gpx\n",
      "total datapoints: 222761\n",
      "currentFile ./GPX Files\\Sachsenring\\Race_1_20190808154416.gpx\n",
      "total datapoints: 226976\n",
      "currentFile ./GPX Files\\Sachsenring\\Race_1_20190809102159.gpx\n",
      "total datapoints: 235433\n",
      "currentFile ./GPX Files\\Sachsenring\\Race_1_20190809103615.gpx\n",
      "total datapoints: 239860\n",
      "currentFile ./GPX Files\\Sachsenring\\Race_1_20190809111227.gpx\n",
      "total datapoints: 241827\n",
      "currentFile ./GPX Files\\Sachsenring\\Race_1_20190809113728.gpx\n",
      "total datapoints: 249155\n",
      "currentFile ./GPX Files\\Sachsenring\\Race_20180809T124152.gpx\n",
      "total datapoints: 250227\n",
      "currentFile ./GPX Files\\Sachsenring\\Race_20180810T100821.gpx\n",
      "total datapoints: 253872\n",
      "currentFile ./GPX Files\\Sachsenring\\Race_20180810T102105.gpx\n",
      "total datapoints: 259379\n",
      "currentFile ./GPX Files\\Sachsenring\\Race_20180810T111246.gpx\n",
      "total datapoints: 265357\n"
     ]
    }
   ],
   "source": [
    "import glob\n",
    "import xml.etree.ElementTree as ET\n",
    "namespace = \"{http://www.topografix.com/GPX/1/1}\"\n",
    "root_dir = './GPX Files\\\\'\n",
    "\n",
    "#data should look like this, so it can be converted to pandas dataframe:\n",
    "data = []\n",
    "#dict to store race info like circuitname lap etc.\n",
    "raceinfo = {\"circuitname\": \"\", \"racenumber\": -1, \"lapCounter\":0, \"tracklength\": 0}\n",
    "for filename in glob.iglob(root_dir + '**/*.gpx', recursive=True):\n",
    "    \n",
    "    #if FileName is Track: Skip\n",
    "    if 'Track' in str(filename):\n",
    "        continue\n",
    "        \n",
    "    print ('currentFile', filename)\n",
    "    \n",
    "    currentcircuitname = filename.split(root_dir)[1].split(\"\\\\\")[0]\n",
    "    #racefilename = filename.split(root_dir)[1].split(\"\\\\\")[1]\n",
    "\n",
    "    # reset racenumber on new type of circuit\n",
    "    if currentcircuitname != raceinfo[\"circuitname\"]:\n",
    "        raceinfo[\"racenumber\"] = 1\n",
    "        raceinfo[\"circuitname\"] = currentcircuitname\n",
    "                \n",
    "    # reset laps\n",
    "    raceinfo[\"lapCounter\"] = 0\n",
    "        \n",
    "    root = ET.parse(filename).getroot()\n",
    "    \n",
    "    #RaceDriver Id and Name\n",
    "    raceMeta = root.find (namespace + \"metadata\").find(namespace + \"extensions\").find(namespace + \"raceMeta\")\n",
    "    userProfileName = None\n",
    "    userProfileGUID = None\n",
    "    for amgraw in raceMeta.findall(\"*\"):\n",
    "        amg = str(amgraw).split(\"{https://www.mercedes-amg.com/xsd/gpx-ext}\")[1].split('\\'')[0]\n",
    "        if amg == \"userProfileName\":\n",
    "            userProfileName = str(amgraw.text)\n",
    "        elif amg == \"userProfileGUID\":\n",
    "            userProfileGUID = str(amgraw.text)\n",
    "            \n",
    "    #track length\n",
    "    trackmeta = root.find (namespace + \"metadata\").find(namespace + \"extensions\").find(namespace + \"trackMeta\")\n",
    "    for amgraw in trackmeta.findall(\"*\"):\n",
    "        amg = str(amgraw).split(\"{https://www.mercedes-amg.com/xsd/gpx-ext}\")[1].split('\\'')[0]\n",
    "        if amg == \"length\":\n",
    "            raceinfo[\"tracklength\"] = str(amgraw.text)\n",
    "        \n",
    "    raceinfo[\"userProfileName\"] = userProfileName\n",
    "    raceinfo[\"userProfileGUID\"] = userProfileGUID\n",
    "        \n",
    "    for lap in root.findall(namespace + \"trk\"):\n",
    "        #first <trk>(=fist lap) is only general trackdata and is not needed\n",
    "        if raceinfo[\"lapCounter\"] > 0:\n",
    "            #get AverageLapSpeed in kmh and Top Speed  in kmh + Laptime in ms\n",
    "            averageLapSpeed = float(lap.find(namespace + \"extensions\").find(namespace + \"lapAverageSpeed\").text)/10\n",
    "            topLapSpeed = float(lap.find(namespace + \"extensions\").find(namespace + \"lapTopSpeed\").text)/10\n",
    "            lapTime = float(lap.find(namespace + \"extensions\").find(namespace + \"lapTime\").text)/1000\n",
    "            \n",
    "            raceinfo[\"segCounter\"] = 1\n",
    "            for seg in lap.findall(namespace +\"trkseg\"):\n",
    "                for trkpt in seg.findall(namespace + \"trkpt\"):\n",
    "                    #add race data\n",
    "                    current_trkpt_data = copy.deepcopy(raceinfo)\n",
    "                    #add lap data\n",
    "                    current_trkpt_data[\"averageLapSpeed\"] = averageLapSpeed\n",
    "                    current_trkpt_data[\"topLapSpeed\"] = topLapSpeed\n",
    "                    current_trkpt_data[\"lapTime\"] = lapTime\n",
    "                    #copy trackpoint attributes\n",
    "                    current_trkpt_data.update(trkpt.attrib)\n",
    "                    #copy tags of trackpint\n",
    "                    for tag in trkpt.find(namespace + \"extensions\").findall(\"*\"):\n",
    "                        key = str(tag).split(namespace)[1].split(\"'\")[0]\n",
    "                        value = tag.text\n",
    "                        current_trkpt_data[key] = value\n",
    "                    #add to data\n",
    "                    data.append(copy.deepcopy(current_trkpt_data))\n",
    "                raceinfo[\"segCounter\"]+=1\n",
    "        raceinfo[\"lapCounter\"]+=1\n",
    "    raceinfo[\"racenumber\"]+=1\n",
    "    print(\"total datapoints: \" + str(len(data)))\n"
   ]
  },
  {
   "cell_type": "code",
   "execution_count": 21,
   "id": "d50a87ae",
   "metadata": {},
   "outputs": [],
   "source": [
    "df = pd.DataFrame(data)"
   ]
  },
  {
   "cell_type": "code",
   "execution_count": 22,
   "id": "0e9d2c97",
   "metadata": {},
   "outputs": [
    {
     "data": {
      "text/plain": [
       "(265357, 142)"
      ]
     },
     "execution_count": 22,
     "metadata": {},
     "output_type": "execute_result"
    }
   ],
   "source": [
    "df.shape"
   ]
  },
  {
   "cell_type": "markdown",
   "id": "74e7ffaf",
   "metadata": {},
   "source": [
    "## 2.) Data Exploration: Lets get some overview"
   ]
  },
  {
   "cell_type": "code",
   "execution_count": 24,
   "id": "6c1ca7ea",
   "metadata": {},
   "outputs": [],
   "source": [
    "#number of races and segments per circuitname"
   ]
  },
  {
   "cell_type": "code",
   "execution_count": 25,
   "id": "f3348a47",
   "metadata": {},
   "outputs": [
    {
     "data": {
      "text/html": [
       "<div>\n",
       "<style scoped>\n",
       "    .dataframe tbody tr th:only-of-type {\n",
       "        vertical-align: middle;\n",
       "    }\n",
       "\n",
       "    .dataframe tbody tr th {\n",
       "        vertical-align: top;\n",
       "    }\n",
       "\n",
       "    .dataframe thead th {\n",
       "        text-align: right;\n",
       "    }\n",
       "</style>\n",
       "<table border=\"1\" class=\"dataframe\">\n",
       "  <thead>\n",
       "    <tr style=\"text-align: right;\">\n",
       "      <th></th>\n",
       "      <th>racenumber</th>\n",
       "      <th>segCounter</th>\n",
       "    </tr>\n",
       "    <tr>\n",
       "      <th>circuitname</th>\n",
       "      <th></th>\n",
       "      <th></th>\n",
       "    </tr>\n",
       "  </thead>\n",
       "  <tbody>\n",
       "    <tr>\n",
       "      <th>Circuit Ricardo Tormo unofficial</th>\n",
       "      <td>15</td>\n",
       "      <td>3</td>\n",
       "    </tr>\n",
       "    <tr>\n",
       "      <th>Circuito del Jarama</th>\n",
       "      <td>3</td>\n",
       "      <td>1</td>\n",
       "    </tr>\n",
       "    <tr>\n",
       "      <th>Idiada Handling</th>\n",
       "      <td>5</td>\n",
       "      <td>1</td>\n",
       "    </tr>\n",
       "    <tr>\n",
       "      <th>Sachsenring</th>\n",
       "      <td>15</td>\n",
       "      <td>3</td>\n",
       "    </tr>\n",
       "  </tbody>\n",
       "</table>\n",
       "</div>"
      ],
      "text/plain": [
       "                                  racenumber  segCounter\n",
       "circuitname                                             \n",
       "Circuit Ricardo Tormo unofficial          15           3\n",
       "Circuito del Jarama                        3           1\n",
       "Idiada Handling                            5           1\n",
       "Sachsenring                               15           3"
      ]
     },
     "execution_count": 25,
     "metadata": {},
     "output_type": "execute_result"
    }
   ],
   "source": [
    "df_overview_0 = df[['circuitname', 'racenumber', 'segCounter']].groupby('circuitname').max()\n",
    "df_overview_0"
   ]
  },
  {
   "cell_type": "code",
   "execution_count": 26,
   "id": "8af5b6cb",
   "metadata": {},
   "outputs": [
    {
     "data": {
      "text/html": [
       "<div>\n",
       "<style scoped>\n",
       "    .dataframe tbody tr th:only-of-type {\n",
       "        vertical-align: middle;\n",
       "    }\n",
       "\n",
       "    .dataframe tbody tr th {\n",
       "        vertical-align: top;\n",
       "    }\n",
       "\n",
       "    .dataframe thead th {\n",
       "        text-align: right;\n",
       "    }\n",
       "</style>\n",
       "<table border=\"1\" class=\"dataframe\">\n",
       "  <thead>\n",
       "    <tr style=\"text-align: right;\">\n",
       "      <th></th>\n",
       "      <th>racenumber</th>\n",
       "      <th>segCounter</th>\n",
       "      <th>total laps</th>\n",
       "    </tr>\n",
       "    <tr>\n",
       "      <th>circuitname</th>\n",
       "      <th></th>\n",
       "      <th></th>\n",
       "      <th></th>\n",
       "    </tr>\n",
       "  </thead>\n",
       "  <tbody>\n",
       "    <tr>\n",
       "      <th>Circuit Ricardo Tormo unofficial</th>\n",
       "      <td>15</td>\n",
       "      <td>3</td>\n",
       "      <td>91</td>\n",
       "    </tr>\n",
       "    <tr>\n",
       "      <th>Circuito del Jarama</th>\n",
       "      <td>3</td>\n",
       "      <td>1</td>\n",
       "      <td>5</td>\n",
       "    </tr>\n",
       "    <tr>\n",
       "      <th>Idiada Handling</th>\n",
       "      <td>5</td>\n",
       "      <td>1</td>\n",
       "      <td>25</td>\n",
       "    </tr>\n",
       "    <tr>\n",
       "      <th>Sachsenring</th>\n",
       "      <td>15</td>\n",
       "      <td>3</td>\n",
       "      <td>43</td>\n",
       "    </tr>\n",
       "  </tbody>\n",
       "</table>\n",
       "</div>"
      ],
      "text/plain": [
       "                                  racenumber  segCounter  total laps\n",
       "circuitname                                                         \n",
       "Circuit Ricardo Tormo unofficial          15           3          91\n",
       "Circuito del Jarama                        3           1           5\n",
       "Idiada Handling                            5           1          25\n",
       "Sachsenring                               15           3          43"
      ]
     },
     "execution_count": 26,
     "metadata": {},
     "output_type": "execute_result"
    }
   ],
   "source": [
    "#number of total laps per circuitname\n",
    "df_lapcounter = df[['circuitname', 'racenumber','lapCounter']].groupby(['circuitname','racenumber']).max(['lapCounter']) \\\n",
    ".groupby('circuitname').sum()\n",
    "df_overview_1 = df_overview_0.copy()\n",
    "df_overview_1[\"total laps\"] = df_lapcounter\n",
    "df_overview_1"
   ]
  },
  {
   "cell_type": "code",
   "execution_count": 27,
   "id": "7c56f0f3",
   "metadata": {},
   "outputs": [
    {
     "data": {
      "text/html": [
       "<div>\n",
       "<style scoped>\n",
       "    .dataframe tbody tr th:only-of-type {\n",
       "        vertical-align: middle;\n",
       "    }\n",
       "\n",
       "    .dataframe tbody tr th {\n",
       "        vertical-align: top;\n",
       "    }\n",
       "\n",
       "    .dataframe thead th {\n",
       "        text-align: right;\n",
       "    }\n",
       "</style>\n",
       "<table border=\"1\" class=\"dataframe\">\n",
       "  <thead>\n",
       "    <tr style=\"text-align: right;\">\n",
       "      <th></th>\n",
       "      <th>racenumber</th>\n",
       "      <th>segCounter</th>\n",
       "      <th>total laps</th>\n",
       "      <th>total_trackpoints</th>\n",
       "    </tr>\n",
       "    <tr>\n",
       "      <th>circuitname</th>\n",
       "      <th></th>\n",
       "      <th></th>\n",
       "      <th></th>\n",
       "      <th></th>\n",
       "    </tr>\n",
       "  </thead>\n",
       "  <tbody>\n",
       "    <tr>\n",
       "      <th>Circuit Ricardo Tormo unofficial</th>\n",
       "      <td>15</td>\n",
       "      <td>3</td>\n",
       "      <td>91</td>\n",
       "      <td>191087</td>\n",
       "    </tr>\n",
       "    <tr>\n",
       "      <th>Circuito del Jarama</th>\n",
       "      <td>3</td>\n",
       "      <td>1</td>\n",
       "      <td>5</td>\n",
       "      <td>6091</td>\n",
       "    </tr>\n",
       "    <tr>\n",
       "      <th>Idiada Handling</th>\n",
       "      <td>5</td>\n",
       "      <td>1</td>\n",
       "      <td>25</td>\n",
       "      <td>17270</td>\n",
       "    </tr>\n",
       "    <tr>\n",
       "      <th>Sachsenring</th>\n",
       "      <td>15</td>\n",
       "      <td>3</td>\n",
       "      <td>43</td>\n",
       "      <td>50909</td>\n",
       "    </tr>\n",
       "  </tbody>\n",
       "</table>\n",
       "</div>"
      ],
      "text/plain": [
       "                                  racenumber  segCounter  total laps  \\\n",
       "circuitname                                                            \n",
       "Circuit Ricardo Tormo unofficial          15           3          91   \n",
       "Circuito del Jarama                        3           1           5   \n",
       "Idiada Handling                            5           1          25   \n",
       "Sachsenring                               15           3          43   \n",
       "\n",
       "                                  total_trackpoints  \n",
       "circuitname                                          \n",
       "Circuit Ricardo Tormo unofficial             191087  \n",
       "Circuito del Jarama                            6091  \n",
       "Idiada Handling                               17270  \n",
       "Sachsenring                                   50909  "
      ]
     },
     "execution_count": 27,
     "metadata": {},
     "output_type": "execute_result"
    }
   ],
   "source": [
    "#number of total trackpoints per circuitname\n",
    "df_total_trackpoints = df['circuitname'].value_counts().to_frame('trackpoints')\n",
    "df_overview_2 = df_overview_1.copy()\n",
    "df_overview_2[\"total_trackpoints\"] = df_total_trackpoints\n",
    "df_overview_2"
   ]
  },
  {
   "cell_type": "code",
   "execution_count": 28,
   "id": "7937a439",
   "metadata": {},
   "outputs": [
    {
     "data": {
      "text/html": [
       "<div>\n",
       "<style scoped>\n",
       "    .dataframe tbody tr th:only-of-type {\n",
       "        vertical-align: middle;\n",
       "    }\n",
       "\n",
       "    .dataframe tbody tr th {\n",
       "        vertical-align: top;\n",
       "    }\n",
       "\n",
       "    .dataframe thead th {\n",
       "        text-align: right;\n",
       "    }\n",
       "</style>\n",
       "<table border=\"1\" class=\"dataframe\">\n",
       "  <thead>\n",
       "    <tr style=\"text-align: right;\">\n",
       "      <th></th>\n",
       "      <th>racenumber</th>\n",
       "      <th>segCounter</th>\n",
       "      <th>total laps</th>\n",
       "      <th>total_trackpoints</th>\n",
       "      <th>mean trackpoint/lap</th>\n",
       "    </tr>\n",
       "    <tr>\n",
       "      <th>circuitname</th>\n",
       "      <th></th>\n",
       "      <th></th>\n",
       "      <th></th>\n",
       "      <th></th>\n",
       "      <th></th>\n",
       "    </tr>\n",
       "  </thead>\n",
       "  <tbody>\n",
       "    <tr>\n",
       "      <th>Circuit Ricardo Tormo unofficial</th>\n",
       "      <td>15</td>\n",
       "      <td>3</td>\n",
       "      <td>91</td>\n",
       "      <td>191087</td>\n",
       "      <td>2099.857143</td>\n",
       "    </tr>\n",
       "    <tr>\n",
       "      <th>Circuito del Jarama</th>\n",
       "      <td>3</td>\n",
       "      <td>1</td>\n",
       "      <td>5</td>\n",
       "      <td>6091</td>\n",
       "      <td>1218.200000</td>\n",
       "    </tr>\n",
       "    <tr>\n",
       "      <th>Idiada Handling</th>\n",
       "      <td>5</td>\n",
       "      <td>1</td>\n",
       "      <td>25</td>\n",
       "      <td>17270</td>\n",
       "      <td>690.800000</td>\n",
       "    </tr>\n",
       "    <tr>\n",
       "      <th>Sachsenring</th>\n",
       "      <td>15</td>\n",
       "      <td>3</td>\n",
       "      <td>43</td>\n",
       "      <td>50909</td>\n",
       "      <td>1183.930233</td>\n",
       "    </tr>\n",
       "  </tbody>\n",
       "</table>\n",
       "</div>"
      ],
      "text/plain": [
       "                                  racenumber  segCounter  total laps  \\\n",
       "circuitname                                                            \n",
       "Circuit Ricardo Tormo unofficial          15           3          91   \n",
       "Circuito del Jarama                        3           1           5   \n",
       "Idiada Handling                            5           1          25   \n",
       "Sachsenring                               15           3          43   \n",
       "\n",
       "                                  total_trackpoints  mean trackpoint/lap  \n",
       "circuitname                                                               \n",
       "Circuit Ricardo Tormo unofficial             191087          2099.857143  \n",
       "Circuito del Jarama                            6091          1218.200000  \n",
       "Idiada Handling                               17270           690.800000  \n",
       "Sachsenring                                   50909          1183.930233  "
      ]
     },
     "execution_count": 28,
     "metadata": {},
     "output_type": "execute_result"
    }
   ],
   "source": [
    "#mean number of trackpoints per lap\n",
    "df_mean_number_of_trackpoints_per_lap= df[['circuitname', 'racenumber','lapCounter']].\\\n",
    "groupby(['circuitname','racenumber','lapCounter']).size().groupby(\"circuitname\").mean().to_frame(\"mean trackpoint/lap\")\n",
    "df_mean_number_of_trackpoints_per_lap = df_mean_number_of_trackpoints_per_lap.reset_index()\n",
    "\n",
    "df_overview_3 = df_overview_2.copy()\n",
    "df_overview_3[\"mean trackpoint/lap\"] = list(df_mean_number_of_trackpoints_per_lap[\"mean trackpoint/lap\"])\n",
    "df_overview_3\n"
   ]
  },
  {
   "cell_type": "code",
   "execution_count": 29,
   "id": "827572c3",
   "metadata": {},
   "outputs": [
    {
     "data": {
      "text/html": [
       "<div>\n",
       "<style scoped>\n",
       "    .dataframe tbody tr th:only-of-type {\n",
       "        vertical-align: middle;\n",
       "    }\n",
       "\n",
       "    .dataframe tbody tr th {\n",
       "        vertical-align: top;\n",
       "    }\n",
       "\n",
       "    .dataframe thead th {\n",
       "        text-align: right;\n",
       "    }\n",
       "</style>\n",
       "<table border=\"1\" class=\"dataframe\">\n",
       "  <thead>\n",
       "    <tr style=\"text-align: right;\">\n",
       "      <th></th>\n",
       "      <th>racenumber</th>\n",
       "      <th>segCounter</th>\n",
       "      <th>total laps</th>\n",
       "      <th>total_trackpoints</th>\n",
       "      <th>mean trackpoint/lap</th>\n",
       "      <th>tracklength</th>\n",
       "    </tr>\n",
       "    <tr>\n",
       "      <th>circuitname</th>\n",
       "      <th></th>\n",
       "      <th></th>\n",
       "      <th></th>\n",
       "      <th></th>\n",
       "      <th></th>\n",
       "      <th></th>\n",
       "    </tr>\n",
       "  </thead>\n",
       "  <tbody>\n",
       "    <tr>\n",
       "      <th>Circuit Ricardo Tormo unofficial</th>\n",
       "      <td>15</td>\n",
       "      <td>3</td>\n",
       "      <td>91</td>\n",
       "      <td>191087</td>\n",
       "      <td>2099.857143</td>\n",
       "      <td>3959.47</td>\n",
       "    </tr>\n",
       "    <tr>\n",
       "      <th>Circuito del Jarama</th>\n",
       "      <td>3</td>\n",
       "      <td>1</td>\n",
       "      <td>5</td>\n",
       "      <td>6091</td>\n",
       "      <td>1218.200000</td>\n",
       "      <td>3850.37</td>\n",
       "    </tr>\n",
       "    <tr>\n",
       "      <th>Idiada Handling</th>\n",
       "      <td>5</td>\n",
       "      <td>1</td>\n",
       "      <td>25</td>\n",
       "      <td>17270</td>\n",
       "      <td>690.800000</td>\n",
       "      <td>2148.52</td>\n",
       "    </tr>\n",
       "    <tr>\n",
       "      <th>Sachsenring</th>\n",
       "      <td>15</td>\n",
       "      <td>3</td>\n",
       "      <td>43</td>\n",
       "      <td>50909</td>\n",
       "      <td>1183.930233</td>\n",
       "      <td>3572.85</td>\n",
       "    </tr>\n",
       "  </tbody>\n",
       "</table>\n",
       "</div>"
      ],
      "text/plain": [
       "                                  racenumber  segCounter  total laps  \\\n",
       "circuitname                                                            \n",
       "Circuit Ricardo Tormo unofficial          15           3          91   \n",
       "Circuito del Jarama                        3           1           5   \n",
       "Idiada Handling                            5           1          25   \n",
       "Sachsenring                               15           3          43   \n",
       "\n",
       "                                  total_trackpoints  mean trackpoint/lap  \\\n",
       "circuitname                                                                \n",
       "Circuit Ricardo Tormo unofficial             191087          2099.857143   \n",
       "Circuito del Jarama                            6091          1218.200000   \n",
       "Idiada Handling                               17270           690.800000   \n",
       "Sachsenring                                   50909          1183.930233   \n",
       "\n",
       "                                  tracklength  \n",
       "circuitname                                    \n",
       "Circuit Ricardo Tormo unofficial      3959.47  \n",
       "Circuito del Jarama                   3850.37  \n",
       "Idiada Handling                       2148.52  \n",
       "Sachsenring                           3572.85  "
      ]
     },
     "execution_count": 29,
     "metadata": {},
     "output_type": "execute_result"
    }
   ],
   "source": [
    "#circuit lenght and mean meters/ trackpoint\n",
    "df_length = df[['circuitname','tracklength']].groupby(['circuitname','tracklength']).max()[:4]\n",
    "df_length=df_length.reset_index()\n",
    "df_overview_4 = df_overview_3.copy()\n",
    "df_overview_4[\"tracklength\"] = list(df_length[\"tracklength\"])\n",
    "df_overview_4[\"tracklength\"] = df_overview_4[\"tracklength\"].astype(float, errors = 'raise')\n",
    "df_overview_4"
   ]
  },
  {
   "cell_type": "code",
   "execution_count": 30,
   "id": "8529f977",
   "metadata": {},
   "outputs": [
    {
     "data": {
      "text/html": [
       "<div>\n",
       "<style scoped>\n",
       "    .dataframe tbody tr th:only-of-type {\n",
       "        vertical-align: middle;\n",
       "    }\n",
       "\n",
       "    .dataframe tbody tr th {\n",
       "        vertical-align: top;\n",
       "    }\n",
       "\n",
       "    .dataframe thead th {\n",
       "        text-align: right;\n",
       "    }\n",
       "</style>\n",
       "<table border=\"1\" class=\"dataframe\">\n",
       "  <thead>\n",
       "    <tr style=\"text-align: right;\">\n",
       "      <th></th>\n",
       "      <th>racenumber</th>\n",
       "      <th>segCounter</th>\n",
       "      <th>total laps</th>\n",
       "      <th>total_trackpoints</th>\n",
       "      <th>mean trackpoint/lap</th>\n",
       "      <th>tracklength</th>\n",
       "      <th>mean meter per trackpoint</th>\n",
       "    </tr>\n",
       "    <tr>\n",
       "      <th>circuitname</th>\n",
       "      <th></th>\n",
       "      <th></th>\n",
       "      <th></th>\n",
       "      <th></th>\n",
       "      <th></th>\n",
       "      <th></th>\n",
       "      <th></th>\n",
       "    </tr>\n",
       "  </thead>\n",
       "  <tbody>\n",
       "    <tr>\n",
       "      <th>Circuit Ricardo Tormo unofficial</th>\n",
       "      <td>15</td>\n",
       "      <td>3</td>\n",
       "      <td>91</td>\n",
       "      <td>191087</td>\n",
       "      <td>2099.857143</td>\n",
       "      <td>3959.47</td>\n",
       "      <td>1.885590</td>\n",
       "    </tr>\n",
       "    <tr>\n",
       "      <th>Circuito del Jarama</th>\n",
       "      <td>3</td>\n",
       "      <td>1</td>\n",
       "      <td>5</td>\n",
       "      <td>6091</td>\n",
       "      <td>1218.200000</td>\n",
       "      <td>3850.37</td>\n",
       "      <td>3.160704</td>\n",
       "    </tr>\n",
       "    <tr>\n",
       "      <th>Idiada Handling</th>\n",
       "      <td>5</td>\n",
       "      <td>1</td>\n",
       "      <td>25</td>\n",
       "      <td>17270</td>\n",
       "      <td>690.800000</td>\n",
       "      <td>2148.52</td>\n",
       "      <td>3.110191</td>\n",
       "    </tr>\n",
       "    <tr>\n",
       "      <th>Sachsenring</th>\n",
       "      <td>15</td>\n",
       "      <td>3</td>\n",
       "      <td>43</td>\n",
       "      <td>50909</td>\n",
       "      <td>1183.930233</td>\n",
       "      <td>3572.85</td>\n",
       "      <td>3.017788</td>\n",
       "    </tr>\n",
       "  </tbody>\n",
       "</table>\n",
       "</div>"
      ],
      "text/plain": [
       "                                  racenumber  segCounter  total laps  \\\n",
       "circuitname                                                            \n",
       "Circuit Ricardo Tormo unofficial          15           3          91   \n",
       "Circuito del Jarama                        3           1           5   \n",
       "Idiada Handling                            5           1          25   \n",
       "Sachsenring                               15           3          43   \n",
       "\n",
       "                                  total_trackpoints  mean trackpoint/lap  \\\n",
       "circuitname                                                                \n",
       "Circuit Ricardo Tormo unofficial             191087          2099.857143   \n",
       "Circuito del Jarama                            6091          1218.200000   \n",
       "Idiada Handling                               17270           690.800000   \n",
       "Sachsenring                                   50909          1183.930233   \n",
       "\n",
       "                                  tracklength  mean meter per trackpoint  \n",
       "circuitname                                                               \n",
       "Circuit Ricardo Tormo unofficial      3959.47                   1.885590  \n",
       "Circuito del Jarama                   3850.37                   3.160704  \n",
       "Idiada Handling                       2148.52                   3.110191  \n",
       "Sachsenring                           3572.85                   3.017788  "
      ]
     },
     "execution_count": 30,
     "metadata": {},
     "output_type": "execute_result"
    }
   ],
   "source": [
    "df_overview_4['mean meter per trackpoint'] = df_overview_4['tracklength'] / df_overview_4[\"mean trackpoint/lap\"]\n",
    "df_overview_4"
   ]
  },
  {
   "cell_type": "markdown",
   "id": "244c587e",
   "metadata": {},
   "source": [
    "### 2.1) Lap-times\n",
    "\n",
    "Lets find out about the laptimes per Lap per circuit."
   ]
  },
  {
   "cell_type": "code",
   "execution_count": 31,
   "id": "35ca4747",
   "metadata": {},
   "outputs": [
    {
     "data": {
      "text/plain": [
       "<AxesSubplot:title={'center':'Lap times for Circuit Ricardo Tormo unofficial'}>"
      ]
     },
     "execution_count": 31,
     "metadata": {},
     "output_type": "execute_result"
    },
    {
     "data": {
      "image/png": "[encoded data removed]",
      "text/plain": [
       "<Figure size 720x1440 with 1 Axes>"
      ]
     },
     "metadata": {
      "needs_background": "light"
     },
     "output_type": "display_data"
    }
   ],
   "source": [
    "df_laptimes = df[[\"circuitname\",\"racenumber\",\"lapCounter\", \"lapTime\"]].groupby([\"circuitname\",\"racenumber\",\"lapCounter\"]).max()\n",
    "df_laptimes=df_laptimes.reset_index()\n",
    "\n",
    "df_laptime_1 =df_laptimes.loc[df_laptimes['circuitname'] == \"Circuit Ricardo Tormo unofficial\"].sort_values(\"lapTime\")\n",
    "df_laptime_1 = df_laptime_1[::-1]\n",
    "df_laptime_1.reset_index()[\"lapTime\"].\\\n",
    "plot.barh( x=\"lapTime\",y=\"index\",figsize=(10,20), title = \"Lap times for Circuit Ricardo Tormo unofficial\")"
   ]
  },
  {
   "cell_type": "code",
   "execution_count": 32,
   "id": "a89390c8",
   "metadata": {},
   "outputs": [
    {
     "data": {
      "text/plain": [
       "<AxesSubplot:title={'center':'Lap times for Circuito del Jarama'}>"
      ]
     },
     "execution_count": 32,
     "metadata": {},
     "output_type": "execute_result"
    },
    {
     "data": {
      "image/png": "[encoded data removed]",
      "text/plain": [
       "<Figure size 720x216 with 1 Axes>"
      ]
     },
     "metadata": {
      "needs_background": "light"
     },
     "output_type": "display_data"
    }
   ],
   "source": [
    "df_laptime_2 =df_laptimes.loc[df_laptimes['circuitname'] == \"Circuito del Jarama\"].sort_values(\"lapTime\")\n",
    "df_laptime_2 = df_laptime_2[::-1]\n",
    "df_laptime_2.reset_index()[\"lapTime\"].\\\n",
    "plot.barh( x=\"lapTime\",y=\"index\",figsize=(10,3), title = \"Lap times for Circuito del Jarama\")"
   ]
  },
  {
   "cell_type": "code",
   "execution_count": 33,
   "id": "4ecbb928",
   "metadata": {},
   "outputs": [
    {
     "data": {
      "text/plain": [
       "<AxesSubplot:title={'center':'Lap times for Idiada Handling'}>"
      ]
     },
     "execution_count": 33,
     "metadata": {},
     "output_type": "execute_result"
    },
    {
     "data": {
      "image/png": "[encoded data removed]",
      "text/plain": [
       "<Figure size 720x216 with 1 Axes>"
      ]
     },
     "metadata": {
      "needs_background": "light"
     },
     "output_type": "display_data"
    }
   ],
   "source": [
    "df_laptime_3 =df_laptimes.loc[df_laptimes['circuitname'] == \"Idiada Handling\"].sort_values(\"lapTime\")\n",
    "df_laptime_3 = df_laptime_3[::-1]\n",
    "df_laptime_3.reset_index()[\"lapTime\"].\\\n",
    "plot.barh( x=\"lapTime\",y=\"index\",figsize=(10,3), title = \"Lap times for Idiada Handling\")"
   ]
  },
  {
   "cell_type": "code",
   "execution_count": 34,
   "id": "f2452225",
   "metadata": {
    "scrolled": true
   },
   "outputs": [
    {
     "data": {
      "text/plain": [
       "<AxesSubplot:title={'center':'Lap times for Sachsenring'}>"
      ]
     },
     "execution_count": 34,
     "metadata": {},
     "output_type": "execute_result"
    },
    {
     "data": {
      "image/png": "[encoded data removed]",
      "text/plain": [
       "<Figure size 720x360 with 1 Axes>"
      ]
     },
     "metadata": {
      "needs_background": "light"
     },
     "output_type": "display_data"
    }
   ],
   "source": [
    "df_laptime_4 =df_laptimes.loc[df_laptimes['circuitname'] == \"Sachsenring\"].sort_values(\"lapTime\")\n",
    "df_laptime_4 = df_laptime_4[::-1]\n",
    "df_laptime_4.reset_index()[\"lapTime\"].\\\n",
    "plot.barh( x=\"lapTime\",y=\"index\",figsize=(10,5), title = \"Lap times for Sachsenring\")"
   ]
  },
  {
   "cell_type": "markdown",
   "id": "814f3d2c",
   "metadata": {},
   "source": [
    "### 2.2 Data Consistency\n",
    "\n",
    "Some measurements are given for every Trackpoint some are only given for some Trackpoints. Lets get an intel."
   ]
  },
  {
   "cell_type": "code",
   "execution_count": 38,
   "id": "d87f3a00",
   "metadata": {},
   "outputs": [
    {
     "data": {
      "text/plain": [
       "<AxesSubplot:>"
      ]
     },
     "execution_count": 38,
     "metadata": {},
     "output_type": "execute_result"
    },
    {
     "data": {
      "image/png": "[encoded data removed]",
      "text/plain": [
       "<Figure size 1440x2880 with 1 Axes>"
      ]
     },
     "metadata": {
      "needs_background": "light"
     },
     "output_type": "display_data"
    }
   ],
   "source": [
    "df_isnot_null = df.count()\n",
    "df_isnot_null = df_isnot_null.sort_values()\n",
    "df_isnot_null.plot.barh(x=1, y=0, figsize=(20,40))"
   ]
  },
  {
   "cell_type": "code",
   "execution_count": 36,
   "id": "bdb064a8",
   "metadata": {},
   "outputs": [
    {
     "data": {
      "text/plain": [
       "15"
      ]
     },
     "execution_count": 36,
     "metadata": {},
     "output_type": "execute_result"
    }
   ],
   "source": [
    "(df_isnot_null == df_isnot_null.max()).sum()"
   ]
  },
  {
   "cell_type": "markdown",
   "id": "311d9c57",
   "metadata": {},
   "source": [
    "15 Measurements are given for every Trackpoint. 127 are not given for every Trackpoint."
   ]
  },
  {
   "cell_type": "markdown",
   "id": "5980e578",
   "metadata": {},
   "source": [
    "As we can see much data is not recorded for every Trackpoint. Lets check following important data:\n",
    "- latitude\n",
    "- longitude\n",
    "- gear\n",
    "- distance since start\n",
    "- heading direction\n",
    "- speed\n",
    "- throttle\n",
    "- braking torque\n",
    "- steering angle"
   ]
  },
  {
   "cell_type": "code",
   "execution_count": 136,
   "id": "80e16e91",
   "metadata": {},
   "outputs": [
    {
     "data": {
      "text/plain": [
       "<AxesSubplot:ylabel='measurement'>"
      ]
     },
     "execution_count": 136,
     "metadata": {},
     "output_type": "execute_result"
    },
    {
     "data": {
      "image/png": "[encoded data removed]",
      "text/plain": [
       "<Figure size 360x360 with 1 Axes>"
      ]
     },
     "metadata": {
      "needs_background": "light"
     },
     "output_type": "display_data"
    }
   ],
   "source": [
    "important_dataframe = df[['lat', 'lon', \"ag\", \"dfs\", \"h\", \"v\", \"app\", \"btd\", \"swa\", \"circuitname\", \"racenumber\"]] \n",
    "important_dataframe = important_dataframe.groupby([\"circuitname\", \"racenumber\"]).apply(lambda x: x.notnull().all())\n",
    "del important_dataframe['racenumber']\n",
    "del important_dataframe['circuitname']\n",
    "\n",
    "important_dataframe_resettted =important_dataframe.reset_index(drop=True).sum().sort_values()\n",
    "important_dataframe_resettted.plot.barh(figsize=(5,5),ylabel= \"measurement\")"
   ]
  },
  {
   "cell_type": "markdown",
   "id": "236950dc",
   "metadata": {},
   "source": [
    "heading, distance from start, longtitude, latitude are given for every trackpoint in all races. \n",
    "\n",
    "Speed is only complete for roughly 15 races.\n",
    "\n",
    "Steering angle, braking torque, throttle and gear are not completely given for no race. \n",
    "\n",
    "### 2.3 Data Ranges"
   ]
  },
  {
   "cell_type": "code",
   "execution_count": 131,
   "id": "2395d2d4",
   "metadata": {},
   "outputs": [
    {
     "name": "stdout",
     "output_type": "stream",
     "text": [
      "Distance from start has a range from 0.0 to 3979.29 metres.\n",
      "Heading has a range from 7.71935e-06 to 359.999 degrees.\n",
      "Speed has a range from 0.0 to 80.7151 metres per second.\n",
      "Gear has a range from 0.0 to 13.0\n",
      "Break Torque has a range from 0.0 to 4890.0Nm.\n",
      "steering wheel has a range from -353.2 to 409.2 degrees.\n"
     ]
    }
   ],
   "source": [
    "print(\"Distance from start has a range from \" + str(df[\"dfs\"].astype(float).min()) +\\\n",
    "      \" to \" + str(df[\"dfs\"].astype(float).max()) + \" metres.\")\n",
    "print(\"Heading has a range from \" + str(df[\"h\"].astype(float).min()) +\\\n",
    "      \" to \" + str(df[\"h\"].astype(float).max()) + \" degrees.\")\n",
    "print(\"Speed has a range from \" + str(df[\"v\"].astype(float).min()) + \" to \" + str(df[\"v\"].astype(float).max())+ \" metres per second.\")\n",
    "print(\"Gear has a range from \" + str(df[\"ag\"].astype(float).min()) + \" to \" + str(df[\"ag\"].astype(float).max()))\n",
    "print(\"Break Torque has a range from \" + str(df[\"btd\"].astype(float).min()) + \" to \" + str(df[\"btd\"].astype(float).max())+ \"Nm.\")\n",
    "print(\"steering wheel has a range from \" + str(df[\"swa\"].astype(float).min()/10) + \" to \" + str(df[\"swa\"].astype(float).max()/10) + \" degrees.\")\n"
   ]
  },
  {
   "cell_type": "markdown",
   "id": "6c2827c2",
   "metadata": {},
   "source": [
    "## 3.)Analysis \n",
    "\n",
    "### 3.1 Correlations"
   ]
  },
  {
   "cell_type": "code",
   "execution_count": 150,
   "id": "d8264c6a",
   "metadata": {},
   "outputs": [],
   "source": [
    "corr_df =df[['lat', 'lon', \"ag\", \"dfs\", \"h\", \"v\", \"app\", \"btd\", \"swa\"]]\n",
    "corr_df = corr_df.apply(pd.to_numeric)\n",
    "#interpolate missing values liner manner-wise\n",
    "corr_df=corr_df.interpolate()"
   ]
  },
  {
   "cell_type": "code",
   "execution_count": 151,
   "id": "960d7512",
   "metadata": {},
   "outputs": [
    {
     "data": {
      "image/png": "[encoded data removed]",
      "text/plain": [
       "<Figure size 1080x720 with 2 Axes>"
      ]
     },
     "metadata": {
      "needs_background": "light"
     },
     "output_type": "display_data"
    }
   ],
   "source": [
    "correlatedData = corr_df.corr()\n",
    "plt.subplots(figsize=(30,20))\n",
    "sns.heatmap(correlatedData, annot=True,cmap = 'coolwarm', vmin = -1)# ,vmin =-1, vmax=1\n",
    "\n",
    "params = {\n",
    "         'ytick.labelsize':'x-large'}\n",
    "\n",
    "fig = plt.gcf()\n",
    "fig.set_size_inches(15, 10)\n",
    "plt.rcParams.update(params)\n"
   ]
  },
  {
   "cell_type": "markdown",
   "id": "b3797ecb",
   "metadata": {},
   "source": [
    "For example velocity(v) correlates with throttle(app) highly positive (0.38)."
   ]
  },
  {
   "cell_type": "markdown",
   "id": "5f96c1cd",
   "metadata": {},
   "source": [
    "### 3.2) For some tableau plots we want to use the following features:\n",
    "\n",
    "- circuitname\n",
    "- racenumber\n",
    "- lap\n",
    "- segment\n",
    "- lapTime\n",
    "- userProfileGUID\n",
    "- userProfileName\n",
    "- speed: v\n",
    "- topLapSpeed\n",
    "- averageLapSpeed\n",
    "- total metres driven: dfs\n",
    "- time-stamp: ts\n",
    "- lat\n",
    "- lon"
   ]
  },
  {
   "cell_type": "code",
   "execution_count": 154,
   "id": "434be681",
   "metadata": {},
   "outputs": [],
   "source": [
    "tableau_dataframe = df[['circuitname','racenumber','lapCounter','segCounter','userProfileGUID','userProfileName','lapTime','v', \\\n",
    "                                  'topLapSpeed','averageLapSpeed','dfs', 'ts', 'lat', 'lon']] "
   ]
  },
  {
   "cell_type": "code",
   "execution_count": 10,
   "id": "f99a84d6",
   "metadata": {},
   "outputs": [],
   "source": [
    "#write to File\n",
    "tableau_dataframe.to_csv('secondTask_data.txt', sep=';', index=False)"
   ]
  },
  {
   "cell_type": "markdown",
   "id": "90392f8b",
   "metadata": {},
   "source": [
    "lets see the tableau plots:"
   ]
  },
  {
   "cell_type": "markdown",
   "id": "2cc18fd9",
   "metadata": {},
   "source": [
    "![Dashboard1-image](Dashboard1.png \"Dashboard 1\")"
   ]
  },
  {
   "cell_type": "markdown",
   "id": "00d1ab5c",
   "metadata": {},
   "source": [
    "![Dashboard2-image](Dashboard2.png \"Dashboard 2\")"
   ]
  },
  {
   "cell_type": "markdown",
   "id": "bcfaeea4",
   "metadata": {},
   "source": [
    "This can be explained by the fact that driving uphill costs energy. A greater influence is probably the height difference of the race track in comparison to how the curves are located."
   ]
  },
  {
   "cell_type": "markdown",
   "id": "c195f071",
   "metadata": {},
   "source": [
    "![Dashboard3-image](Dashboard3.png \"Dashboard 3\")"
   ]
  },
  {
   "cell_type": "code",
   "execution_count": null,
   "id": "19f54c2f",
   "metadata": {},
   "outputs": [],
   "source": []
  }
 ],
 "metadata": {
  "kernelspec": {
   "display_name": "Python 3",
   "language": "python",
   "name": "python3"
  },
  "language_info": {
   "codemirror_mode": {
    "name": "ipython",
    "version": 3
   },
   "file_extension": ".py",
   "mimetype": "text/x-python",
   "name": "python",
   "nbconvert_exporter": "python",
   "pygments_lexer": "ipython3",
   "version": "3.8.8"
  }
 },
 "nbformat": 4,
 "nbformat_minor": 5
}
